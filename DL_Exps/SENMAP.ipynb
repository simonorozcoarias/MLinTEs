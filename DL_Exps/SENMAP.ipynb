{
  "nbformat": 4,
  "nbformat_minor": 0,
  "metadata": {
    "accelerator": "GPU",
    "colab": {
      "name": "Copia de Pruebas2d_DL_Estiven.ipynb",
      "provenance": [],
      "collapsed_sections": [],
      "machine_shape": "hm"
    },
    "kernelspec": {
      "display_name": "Python 3",
      "name": "python3"
    }
  },
  "cells": [
    {
      "cell_type": "code",
      "metadata": {
        "colab": {
          "base_uri": "https://localhost:8080/"
        },
        "id": "tAb77yZ9fzMG",
        "outputId": "46d32c58-fb5d-4dfd-832a-eb4b0cc098e7"
      },
      "source": [
        "from google.colab import drive\n",
        "drive.mount('/content/drive')"
      ],
      "execution_count": null,
      "outputs": [
        {
          "output_type": "stream",
          "text": [
            "Mounted at /content/drive\n"
          ],
          "name": "stdout"
        }
      ]
    },
    {
      "cell_type": "code",
      "metadata": {
        "colab": {
          "base_uri": "https://localhost:8080/"
        },
        "id": "HrUC-DAyylM3",
        "outputId": "88f7b4eb-b659-47f7-e094-10a62620dd90"
      },
      "source": [
        "!pip install focal_loss"
      ],
      "execution_count": null,
      "outputs": [
        {
          "output_type": "stream",
          "text": [
            "Collecting focal_loss\n",
            "  Downloading focal_loss-0.0.7-py3-none-any.whl (19 kB)\n",
            "Requirement already satisfied: tensorflow>=2.2 in /usr/local/lib/python3.7/dist-packages (from focal_loss) (2.5.0)\n",
            "Requirement already satisfied: opt-einsum~=3.3.0 in /usr/local/lib/python3.7/dist-packages (from tensorflow>=2.2->focal_loss) (3.3.0)\n",
            "Requirement already satisfied: six~=1.15.0 in /usr/local/lib/python3.7/dist-packages (from tensorflow>=2.2->focal_loss) (1.15.0)\n",
            "Requirement already satisfied: protobuf>=3.9.2 in /usr/local/lib/python3.7/dist-packages (from tensorflow>=2.2->focal_loss) (3.17.3)\n",
            "Requirement already satisfied: tensorflow-estimator<2.6.0,>=2.5.0rc0 in /usr/local/lib/python3.7/dist-packages (from tensorflow>=2.2->focal_loss) (2.5.0)\n",
            "Requirement already satisfied: h5py~=3.1.0 in /usr/local/lib/python3.7/dist-packages (from tensorflow>=2.2->focal_loss) (3.1.0)\n",
            "Requirement already satisfied: flatbuffers~=1.12.0 in /usr/local/lib/python3.7/dist-packages (from tensorflow>=2.2->focal_loss) (1.12)\n",
            "Requirement already satisfied: numpy~=1.19.2 in /usr/local/lib/python3.7/dist-packages (from tensorflow>=2.2->focal_loss) (1.19.5)\n",
            "Requirement already satisfied: absl-py~=0.10 in /usr/local/lib/python3.7/dist-packages (from tensorflow>=2.2->focal_loss) (0.12.0)\n",
            "Requirement already satisfied: wheel~=0.35 in /usr/local/lib/python3.7/dist-packages (from tensorflow>=2.2->focal_loss) (0.36.2)\n",
            "Requirement already satisfied: wrapt~=1.12.1 in /usr/local/lib/python3.7/dist-packages (from tensorflow>=2.2->focal_loss) (1.12.1)\n",
            "Requirement already satisfied: astunparse~=1.6.3 in /usr/local/lib/python3.7/dist-packages (from tensorflow>=2.2->focal_loss) (1.6.3)\n",
            "Requirement already satisfied: tensorboard~=2.5 in /usr/local/lib/python3.7/dist-packages (from tensorflow>=2.2->focal_loss) (2.5.0)\n",
            "Requirement already satisfied: typing-extensions~=3.7.4 in /usr/local/lib/python3.7/dist-packages (from tensorflow>=2.2->focal_loss) (3.7.4.3)\n",
            "Requirement already satisfied: keras-preprocessing~=1.1.2 in /usr/local/lib/python3.7/dist-packages (from tensorflow>=2.2->focal_loss) (1.1.2)\n",
            "Requirement already satisfied: google-pasta~=0.2 in /usr/local/lib/python3.7/dist-packages (from tensorflow>=2.2->focal_loss) (0.2.0)\n",
            "Requirement already satisfied: termcolor~=1.1.0 in /usr/local/lib/python3.7/dist-packages (from tensorflow>=2.2->focal_loss) (1.1.0)\n",
            "Requirement already satisfied: keras-nightly~=2.5.0.dev in /usr/local/lib/python3.7/dist-packages (from tensorflow>=2.2->focal_loss) (2.5.0.dev2021032900)\n",
            "Requirement already satisfied: gast==0.4.0 in /usr/local/lib/python3.7/dist-packages (from tensorflow>=2.2->focal_loss) (0.4.0)\n",
            "Requirement already satisfied: grpcio~=1.34.0 in /usr/local/lib/python3.7/dist-packages (from tensorflow>=2.2->focal_loss) (1.34.1)\n",
            "Requirement already satisfied: cached-property in /usr/local/lib/python3.7/dist-packages (from h5py~=3.1.0->tensorflow>=2.2->focal_loss) (1.5.2)\n",
            "Requirement already satisfied: tensorboard-data-server<0.7.0,>=0.6.0 in /usr/local/lib/python3.7/dist-packages (from tensorboard~=2.5->tensorflow>=2.2->focal_loss) (0.6.1)\n",
            "Requirement already satisfied: werkzeug>=0.11.15 in /usr/local/lib/python3.7/dist-packages (from tensorboard~=2.5->tensorflow>=2.2->focal_loss) (1.0.1)\n",
            "Requirement already satisfied: markdown>=2.6.8 in /usr/local/lib/python3.7/dist-packages (from tensorboard~=2.5->tensorflow>=2.2->focal_loss) (3.3.4)\n",
            "Requirement already satisfied: google-auth-oauthlib<0.5,>=0.4.1 in /usr/local/lib/python3.7/dist-packages (from tensorboard~=2.5->tensorflow>=2.2->focal_loss) (0.4.4)\n",
            "Requirement already satisfied: google-auth<2,>=1.6.3 in /usr/local/lib/python3.7/dist-packages (from tensorboard~=2.5->tensorflow>=2.2->focal_loss) (1.32.1)\n",
            "Requirement already satisfied: tensorboard-plugin-wit>=1.6.0 in /usr/local/lib/python3.7/dist-packages (from tensorboard~=2.5->tensorflow>=2.2->focal_loss) (1.8.0)\n",
            "Requirement already satisfied: requests<3,>=2.21.0 in /usr/local/lib/python3.7/dist-packages (from tensorboard~=2.5->tensorflow>=2.2->focal_loss) (2.23.0)\n",
            "Requirement already satisfied: setuptools>=41.0.0 in /usr/local/lib/python3.7/dist-packages (from tensorboard~=2.5->tensorflow>=2.2->focal_loss) (57.2.0)\n",
            "Requirement already satisfied: rsa<5,>=3.1.4 in /usr/local/lib/python3.7/dist-packages (from google-auth<2,>=1.6.3->tensorboard~=2.5->tensorflow>=2.2->focal_loss) (4.7.2)\n",
            "Requirement already satisfied: pyasn1-modules>=0.2.1 in /usr/local/lib/python3.7/dist-packages (from google-auth<2,>=1.6.3->tensorboard~=2.5->tensorflow>=2.2->focal_loss) (0.2.8)\n",
            "Requirement already satisfied: cachetools<5.0,>=2.0.0 in /usr/local/lib/python3.7/dist-packages (from google-auth<2,>=1.6.3->tensorboard~=2.5->tensorflow>=2.2->focal_loss) (4.2.2)\n",
            "Requirement already satisfied: requests-oauthlib>=0.7.0 in /usr/local/lib/python3.7/dist-packages (from google-auth-oauthlib<0.5,>=0.4.1->tensorboard~=2.5->tensorflow>=2.2->focal_loss) (1.3.0)\n",
            "Requirement already satisfied: importlib-metadata in /usr/local/lib/python3.7/dist-packages (from markdown>=2.6.8->tensorboard~=2.5->tensorflow>=2.2->focal_loss) (4.6.1)\n",
            "Requirement already satisfied: pyasn1<0.5.0,>=0.4.6 in /usr/local/lib/python3.7/dist-packages (from pyasn1-modules>=0.2.1->google-auth<2,>=1.6.3->tensorboard~=2.5->tensorflow>=2.2->focal_loss) (0.4.8)\n",
            "Requirement already satisfied: idna<3,>=2.5 in /usr/local/lib/python3.7/dist-packages (from requests<3,>=2.21.0->tensorboard~=2.5->tensorflow>=2.2->focal_loss) (2.10)\n",
            "Requirement already satisfied: urllib3!=1.25.0,!=1.25.1,<1.26,>=1.21.1 in /usr/local/lib/python3.7/dist-packages (from requests<3,>=2.21.0->tensorboard~=2.5->tensorflow>=2.2->focal_loss) (1.24.3)\n",
            "Requirement already satisfied: certifi>=2017.4.17 in /usr/local/lib/python3.7/dist-packages (from requests<3,>=2.21.0->tensorboard~=2.5->tensorflow>=2.2->focal_loss) (2021.5.30)\n",
            "Requirement already satisfied: chardet<4,>=3.0.2 in /usr/local/lib/python3.7/dist-packages (from requests<3,>=2.21.0->tensorboard~=2.5->tensorflow>=2.2->focal_loss) (3.0.4)\n",
            "Requirement already satisfied: oauthlib>=3.0.0 in /usr/local/lib/python3.7/dist-packages (from requests-oauthlib>=0.7.0->google-auth-oauthlib<0.5,>=0.4.1->tensorboard~=2.5->tensorflow>=2.2->focal_loss) (3.1.1)\n",
            "Requirement already satisfied: zipp>=0.5 in /usr/local/lib/python3.7/dist-packages (from importlib-metadata->markdown>=2.6.8->tensorboard~=2.5->tensorflow>=2.2->focal_loss) (3.5.0)\n",
            "Installing collected packages: focal-loss\n",
            "Successfully installed focal-loss-0.0.7\n"
          ],
          "name": "stdout"
        }
      ]
    },
    {
      "cell_type": "code",
      "metadata": {
        "id": "pafL7Li0jyXW"
      },
      "source": [
        "from tensorflow.keras.layers import Dense\n",
        "import matplotlib.pyplot as plt\n",
        "from pandas import set_option\n",
        "import pandas as pd\n",
        "import tensorflow\n",
        "from tensorflow.keras.models import Sequential\n",
        "import tensorflow.keras.utils\n",
        "from tensorflow.keras.utils import plot_model\n",
        "from tensorflow.keras.models import Model\n",
        "from tensorflow.keras.layers import Input\n",
        "from tensorflow.keras.layers import Dense, Dropout, Activation, Flatten, LSTM\n",
        "import numpy as np \n",
        "from sklearn.metrics import confusion_matrix, classification_report\n",
        "import seaborn as sn \n",
        "import tensorflow.keras\n",
        "from tensorflow.keras.layers import Dense, Dropout, Activation\n",
        "from tensorflow.keras.optimizers import SGD\n",
        "from tensorflow.keras.models import model_from_json\n",
        "from tensorflow.keras.models import Sequential\n",
        "from tensorflow.keras.layers import Dense, Dropout\n",
        "from tensorflow.keras.layers import Embedding\n",
        "from tensorflow.keras.layers import Conv1D, GlobalAveragePooling1D, MaxPooling1D\n",
        "from tensorflow.keras import regularizers\n",
        "\n",
        "from sklearn.model_selection import cross_val_score\n",
        "from sklearn.model_selection import KFold\n",
        "from sklearn.preprocessing import LabelEncoder\n",
        "from sklearn.pipeline import Pipeline\n",
        "from tensorflow.keras.wrappers.scikit_learn import KerasClassifier\n",
        "from tensorflow.keras.optimizers import SGD\n",
        "from tensorflow.keras.layers import Dropout\n",
        "from tensorflow.keras.layers import Dense, Flatten, Conv1D\n",
        "from tensorflow.keras import backend as K\n",
        "\n",
        "from tensorflow.keras.layers import Dropout\n",
        "from sklearn import preprocessing\n",
        "from sklearn import decomposition\n",
        "from sklearn.model_selection import train_test_split\n",
        "\n",
        "from sklearn.metrics import confusion_matrix\n",
        "from sklearn.metrics import accuracy_score\n",
        "from sklearn.metrics import f1_score\n",
        "from sklearn.metrics import recall_score\n",
        "from sklearn.metrics import precision_score\n",
        "from sklearn.metrics import classification_report\n",
        "\n",
        "import tensorflow as tf\n",
        "import time as tm\n",
        "import datetime\n",
        "import os\n",
        "from operator import itemgetter\n",
        "from numpy import argmax\n",
        "from numpy import round\n",
        "from focal_loss import BinaryFocalLoss\n",
        "\n",
        "from tensorflow.compat.v1 import ConfigProto\n",
        "from tensorflow.compat.v1 import InteractiveSession\n",
        "\n",
        "config = ConfigProto()\n",
        "config.gpu_options.allow_growth = True\n",
        "session = InteractiveSession(config=config)"
      ],
      "execution_count": null,
      "outputs": []
    },
    {
      "cell_type": "code",
      "metadata": {
        "colab": {
          "base_uri": "https://localhost:8080/"
        },
        "id": "T6YMWWHwt-S8",
        "outputId": "455bab31-f63b-43d4-c543-4d99de2a2088"
      },
      "source": [
        "pip uninstall tensorflow"
      ],
      "execution_count": null,
      "outputs": [
        {
          "output_type": "stream",
          "text": [
            "Found existing installation: tensorflow 2.5.0\n",
            "Uninstalling tensorflow-2.5.0:\n",
            "  Would remove:\n",
            "    /usr/local/bin/estimator_ckpt_converter\n",
            "    /usr/local/bin/import_pb_to_tensorboard\n",
            "    /usr/local/bin/saved_model_cli\n",
            "    /usr/local/bin/tensorboard\n",
            "    /usr/local/bin/tf_upgrade_v2\n",
            "    /usr/local/bin/tflite_convert\n",
            "    /usr/local/bin/toco\n",
            "    /usr/local/bin/toco_from_protos\n",
            "    /usr/local/lib/python3.7/dist-packages/tensorflow-2.5.0.dist-info/*\n",
            "    /usr/local/lib/python3.7/dist-packages/tensorflow/*\n",
            "Proceed (y/n)? y\n",
            "  Successfully uninstalled tensorflow-2.5.0\n"
          ],
          "name": "stdout"
        }
      ]
    },
    {
      "cell_type": "code",
      "metadata": {
        "colab": {
          "base_uri": "https://localhost:8080/"
        },
        "id": "ffVqcOXHuJwy",
        "outputId": "92652a6e-acb3-4206-9360-55b468569c82"
      },
      "source": [
        "pip install tensorflow==2.2.0"
      ],
      "execution_count": null,
      "outputs": [
        {
          "output_type": "stream",
          "text": [
            "Collecting tensorflow==2.2.0\n",
            "  Downloading tensorflow-2.2.0-cp37-cp37m-manylinux2010_x86_64.whl (516.2 MB)\n",
            "\u001b[K     |████████████████████████████████| 516.2 MB 4.1 kB/s \n",
            "\u001b[?25hRequirement already satisfied: six>=1.12.0 in /usr/local/lib/python3.7/dist-packages (from tensorflow==2.2.0) (1.15.0)\n",
            "Collecting tensorboard<2.3.0,>=2.2.0\n",
            "  Downloading tensorboard-2.2.2-py3-none-any.whl (3.0 MB)\n",
            "\u001b[K     |████████████████████████████████| 3.0 MB 62.4 MB/s \n",
            "\u001b[?25hRequirement already satisfied: astunparse==1.6.3 in /usr/local/lib/python3.7/dist-packages (from tensorflow==2.2.0) (1.6.3)\n",
            "Requirement already satisfied: wrapt>=1.11.1 in /usr/local/lib/python3.7/dist-packages (from tensorflow==2.2.0) (1.12.1)\n",
            "Requirement already satisfied: termcolor>=1.1.0 in /usr/local/lib/python3.7/dist-packages (from tensorflow==2.2.0) (1.1.0)\n",
            "Requirement already satisfied: keras-preprocessing>=1.1.0 in /usr/local/lib/python3.7/dist-packages (from tensorflow==2.2.0) (1.1.2)\n",
            "Requirement already satisfied: wheel>=0.26 in /usr/local/lib/python3.7/dist-packages (from tensorflow==2.2.0) (0.36.2)\n",
            "Collecting h5py<2.11.0,>=2.10.0\n",
            "  Downloading h5py-2.10.0-cp37-cp37m-manylinux1_x86_64.whl (2.9 MB)\n",
            "\u001b[K     |████████████████████████████████| 2.9 MB 64.2 MB/s \n",
            "\u001b[?25hRequirement already satisfied: google-pasta>=0.1.8 in /usr/local/lib/python3.7/dist-packages (from tensorflow==2.2.0) (0.2.0)\n",
            "Requirement already satisfied: protobuf>=3.8.0 in /usr/local/lib/python3.7/dist-packages (from tensorflow==2.2.0) (3.17.3)\n",
            "Collecting tensorflow-estimator<2.3.0,>=2.2.0\n",
            "  Downloading tensorflow_estimator-2.2.0-py2.py3-none-any.whl (454 kB)\n",
            "\u001b[K     |████████████████████████████████| 454 kB 50.5 MB/s \n",
            "\u001b[?25hRequirement already satisfied: grpcio>=1.8.6 in /usr/local/lib/python3.7/dist-packages (from tensorflow==2.2.0) (1.34.1)\n",
            "Requirement already satisfied: numpy<2.0,>=1.16.0 in /usr/local/lib/python3.7/dist-packages (from tensorflow==2.2.0) (1.19.5)\n",
            "Requirement already satisfied: scipy==1.4.1 in /usr/local/lib/python3.7/dist-packages (from tensorflow==2.2.0) (1.4.1)\n",
            "Collecting gast==0.3.3\n",
            "  Downloading gast-0.3.3-py2.py3-none-any.whl (9.7 kB)\n",
            "Requirement already satisfied: absl-py>=0.7.0 in /usr/local/lib/python3.7/dist-packages (from tensorflow==2.2.0) (0.12.0)\n",
            "Requirement already satisfied: opt-einsum>=2.3.2 in /usr/local/lib/python3.7/dist-packages (from tensorflow==2.2.0) (3.3.0)\n",
            "Requirement already satisfied: google-auth<2,>=1.6.3 in /usr/local/lib/python3.7/dist-packages (from tensorboard<2.3.0,>=2.2.0->tensorflow==2.2.0) (1.32.1)\n",
            "Requirement already satisfied: requests<3,>=2.21.0 in /usr/local/lib/python3.7/dist-packages (from tensorboard<2.3.0,>=2.2.0->tensorflow==2.2.0) (2.23.0)\n",
            "Requirement already satisfied: tensorboard-plugin-wit>=1.6.0 in /usr/local/lib/python3.7/dist-packages (from tensorboard<2.3.0,>=2.2.0->tensorflow==2.2.0) (1.8.0)\n",
            "Requirement already satisfied: markdown>=2.6.8 in /usr/local/lib/python3.7/dist-packages (from tensorboard<2.3.0,>=2.2.0->tensorflow==2.2.0) (3.3.4)\n",
            "Requirement already satisfied: setuptools>=41.0.0 in /usr/local/lib/python3.7/dist-packages (from tensorboard<2.3.0,>=2.2.0->tensorflow==2.2.0) (57.2.0)\n",
            "Requirement already satisfied: google-auth-oauthlib<0.5,>=0.4.1 in /usr/local/lib/python3.7/dist-packages (from tensorboard<2.3.0,>=2.2.0->tensorflow==2.2.0) (0.4.4)\n",
            "Requirement already satisfied: werkzeug>=0.11.15 in /usr/local/lib/python3.7/dist-packages (from tensorboard<2.3.0,>=2.2.0->tensorflow==2.2.0) (1.0.1)\n",
            "Requirement already satisfied: cachetools<5.0,>=2.0.0 in /usr/local/lib/python3.7/dist-packages (from google-auth<2,>=1.6.3->tensorboard<2.3.0,>=2.2.0->tensorflow==2.2.0) (4.2.2)\n",
            "Requirement already satisfied: pyasn1-modules>=0.2.1 in /usr/local/lib/python3.7/dist-packages (from google-auth<2,>=1.6.3->tensorboard<2.3.0,>=2.2.0->tensorflow==2.2.0) (0.2.8)\n",
            "Requirement already satisfied: rsa<5,>=3.1.4 in /usr/local/lib/python3.7/dist-packages (from google-auth<2,>=1.6.3->tensorboard<2.3.0,>=2.2.0->tensorflow==2.2.0) (4.7.2)\n",
            "Requirement already satisfied: requests-oauthlib>=0.7.0 in /usr/local/lib/python3.7/dist-packages (from google-auth-oauthlib<0.5,>=0.4.1->tensorboard<2.3.0,>=2.2.0->tensorflow==2.2.0) (1.3.0)\n",
            "Requirement already satisfied: importlib-metadata in /usr/local/lib/python3.7/dist-packages (from markdown>=2.6.8->tensorboard<2.3.0,>=2.2.0->tensorflow==2.2.0) (4.6.1)\n",
            "Requirement already satisfied: pyasn1<0.5.0,>=0.4.6 in /usr/local/lib/python3.7/dist-packages (from pyasn1-modules>=0.2.1->google-auth<2,>=1.6.3->tensorboard<2.3.0,>=2.2.0->tensorflow==2.2.0) (0.4.8)\n",
            "Requirement already satisfied: certifi>=2017.4.17 in /usr/local/lib/python3.7/dist-packages (from requests<3,>=2.21.0->tensorboard<2.3.0,>=2.2.0->tensorflow==2.2.0) (2021.5.30)\n",
            "Requirement already satisfied: chardet<4,>=3.0.2 in /usr/local/lib/python3.7/dist-packages (from requests<3,>=2.21.0->tensorboard<2.3.0,>=2.2.0->tensorflow==2.2.0) (3.0.4)\n",
            "Requirement already satisfied: urllib3!=1.25.0,!=1.25.1,<1.26,>=1.21.1 in /usr/local/lib/python3.7/dist-packages (from requests<3,>=2.21.0->tensorboard<2.3.0,>=2.2.0->tensorflow==2.2.0) (1.24.3)\n",
            "Requirement already satisfied: idna<3,>=2.5 in /usr/local/lib/python3.7/dist-packages (from requests<3,>=2.21.0->tensorboard<2.3.0,>=2.2.0->tensorflow==2.2.0) (2.10)\n",
            "Requirement already satisfied: oauthlib>=3.0.0 in /usr/local/lib/python3.7/dist-packages (from requests-oauthlib>=0.7.0->google-auth-oauthlib<0.5,>=0.4.1->tensorboard<2.3.0,>=2.2.0->tensorflow==2.2.0) (3.1.1)\n",
            "Requirement already satisfied: typing-extensions>=3.6.4 in /usr/local/lib/python3.7/dist-packages (from importlib-metadata->markdown>=2.6.8->tensorboard<2.3.0,>=2.2.0->tensorflow==2.2.0) (3.7.4.3)\n",
            "Requirement already satisfied: zipp>=0.5 in /usr/local/lib/python3.7/dist-packages (from importlib-metadata->markdown>=2.6.8->tensorboard<2.3.0,>=2.2.0->tensorflow==2.2.0) (3.5.0)\n",
            "Installing collected packages: tensorflow-estimator, tensorboard, h5py, gast, tensorflow\n",
            "  Attempting uninstall: tensorflow-estimator\n",
            "    Found existing installation: tensorflow-estimator 2.5.0\n",
            "    Uninstalling tensorflow-estimator-2.5.0:\n",
            "      Successfully uninstalled tensorflow-estimator-2.5.0\n",
            "  Attempting uninstall: tensorboard\n",
            "    Found existing installation: tensorboard 2.5.0\n",
            "    Uninstalling tensorboard-2.5.0:\n",
            "      Successfully uninstalled tensorboard-2.5.0\n",
            "  Attempting uninstall: h5py\n",
            "    Found existing installation: h5py 3.1.0\n",
            "    Uninstalling h5py-3.1.0:\n",
            "      Successfully uninstalled h5py-3.1.0\n",
            "  Attempting uninstall: gast\n",
            "    Found existing installation: gast 0.4.0\n",
            "    Uninstalling gast-0.4.0:\n",
            "      Successfully uninstalled gast-0.4.0\n",
            "Successfully installed gast-0.3.3 h5py-2.10.0 tensorboard-2.2.2 tensorflow-2.2.0 tensorflow-estimator-2.2.0\n"
          ],
          "name": "stdout"
        }
      ]
    },
    {
      "cell_type": "code",
      "metadata": {
        "colab": {
          "base_uri": "https://localhost:8080/"
        },
        "id": "HDwvpi-Jt398",
        "outputId": "9f486662-94ef-4980-80fc-99c3bfcfeeba"
      },
      "source": [
        "pip show tensorflow"
      ],
      "execution_count": null,
      "outputs": [
        {
          "output_type": "stream",
          "text": [
            "Name: tensorflow\n",
            "Version: 2.2.0\n",
            "Summary: TensorFlow is an open source machine learning framework for everyone.\n",
            "Home-page: https://www.tensorflow.org/\n",
            "Author: Google Inc.\n",
            "Author-email: packages@tensorflow.org\n",
            "License: Apache 2.0\n",
            "Location: /usr/local/lib/python3.7/dist-packages\n",
            "Requires: h5py, absl-py, wrapt, gast, six, termcolor, wheel, scipy, tensorflow-estimator, numpy, keras-preprocessing, opt-einsum, protobuf, google-pasta, tensorboard, astunparse, grpcio\n",
            "Required-by: kapre, focal-loss\n"
          ],
          "name": "stdout"
        }
      ]
    },
    {
      "cell_type": "code",
      "metadata": {
        "colab": {
          "base_uri": "https://localhost:8080/"
        },
        "id": "kjLLME7WuNmW",
        "outputId": "e62d4d7d-1261-44a4-9c8a-0ccdccac5eec"
      },
      "source": [
        "pip uninstall scikit-learn"
      ],
      "execution_count": null,
      "outputs": [
        {
          "output_type": "stream",
          "text": [
            "Found existing installation: scikit-learn 0.22.2.post1\n",
            "Uninstalling scikit-learn-0.22.2.post1:\n",
            "  Would remove:\n",
            "    /usr/local/lib/python3.7/dist-packages/scikit_learn-0.22.2.post1.dist-info/*\n",
            "    /usr/local/lib/python3.7/dist-packages/sklearn/*\n",
            "Proceed (y/n)? y\n",
            "  Successfully uninstalled scikit-learn-0.22.2.post1\n"
          ],
          "name": "stdout"
        }
      ]
    },
    {
      "cell_type": "code",
      "metadata": {
        "colab": {
          "base_uri": "https://localhost:8080/"
        },
        "id": "B83Ujj33uPr-",
        "outputId": "bdc8c39d-2b6c-4f58-8232-64e1bd6653bf"
      },
      "source": [
        "pip install scikit-learn==0.24.0"
      ],
      "execution_count": null,
      "outputs": [
        {
          "output_type": "stream",
          "text": [
            "Collecting scikit-learn==0.24.0\n",
            "  Downloading scikit_learn-0.24.0-cp37-cp37m-manylinux2010_x86_64.whl (22.3 MB)\n",
            "\u001b[K     |████████████████████████████████| 22.3 MB 136 kB/s \n",
            "\u001b[?25hRequirement already satisfied: numpy>=1.13.3 in /usr/local/lib/python3.7/dist-packages (from scikit-learn==0.24.0) (1.19.5)\n",
            "Collecting threadpoolctl>=2.0.0\n",
            "  Downloading threadpoolctl-2.2.0-py3-none-any.whl (12 kB)\n",
            "Requirement already satisfied: joblib>=0.11 in /usr/local/lib/python3.7/dist-packages (from scikit-learn==0.24.0) (1.0.1)\n",
            "Requirement already satisfied: scipy>=0.19.1 in /usr/local/lib/python3.7/dist-packages (from scikit-learn==0.24.0) (1.4.1)\n",
            "Installing collected packages: threadpoolctl, scikit-learn\n",
            "Successfully installed scikit-learn-0.24.0 threadpoolctl-2.2.0\n"
          ],
          "name": "stdout"
        }
      ]
    },
    {
      "cell_type": "code",
      "metadata": {
        "colab": {
          "base_uri": "https://localhost:8080/"
        },
        "id": "hZhP0ZSpuR4z",
        "outputId": "65551405-4b9a-485f-ba25-88a9b0bdfac4"
      },
      "source": [
        "pip show scikit-learn"
      ],
      "execution_count": null,
      "outputs": [
        {
          "output_type": "stream",
          "text": [
            "Name: scikit-learn\n",
            "Version: 0.24.0\n",
            "Summary: A set of python modules for machine learning and data mining\n",
            "Home-page: http://scikit-learn.org\n",
            "Author: None\n",
            "Author-email: None\n",
            "License: new BSD\n",
            "Location: /usr/local/lib/python3.7/dist-packages\n",
            "Requires: numpy, scipy, joblib, threadpoolctl\n",
            "Required-by: yellowbrick, sklearn, sklearn-pandas, mlxtend, lightgbm, librosa, imbalanced-learn\n"
          ],
          "name": "stdout"
        }
      ]
    },
    {
      "cell_type": "code",
      "metadata": {
        "id": "TkmxP-kivjGX"
      },
      "source": [
        "y = np.load(\"/content/drive/Shareddrives/Experimentos_CNN/2_labels_20000.fasta.filtered_center_labels.npy\")\n",
        "y = y.astype('bool')"
      ],
      "execution_count": null,
      "outputs": []
    },
    {
      "cell_type": "code",
      "metadata": {
        "id": "AiefCArGvs36"
      },
      "source": [
        "x = np.load(\"/content/drive/Shareddrives/Experimentos_CNN/2_labels_20000.fasta.filtered_center.npy\")\n",
        "x = x.astype('bool')"
      ],
      "execution_count": null,
      "outputs": []
    },
    {
      "cell_type": "code",
      "metadata": {
        "id": "lJ-02D2J_40Z"
      },
      "source": [
        "#y.dtype, x.dtype, y.__sizeof__(), x.__sizeof__(), y[9900:10100]"
      ],
      "execution_count": null,
      "outputs": []
    },
    {
      "cell_type": "code",
      "metadata": {
        "id": "5hEBWcOxxnc9"
      },
      "source": [
        "validation_size = 0.2\n",
        "seed = 7\n",
        "X_train, X_test_dev, Y_train, Y_test_dev = train_test_split(x, y, test_size=validation_size,random_state=seed)\n",
        "X_dev, X_test, Y_dev, Y_test = train_test_split(X_test_dev, Y_test_dev, test_size=0.5, random_state=seed)"
      ],
      "execution_count": null,
      "outputs": []
    },
    {
      "cell_type": "code",
      "metadata": {
        "colab": {
          "base_uri": "https://localhost:8080/"
        },
        "id": "gwIaTCnFyPuN",
        "outputId": "92c76edd-b5a3-4772-cbad-7df6b33b4f65"
      },
      "source": [
        "X_train.shape"
      ],
      "execution_count": null,
      "outputs": [
        {
          "output_type": "execute_result",
          "data": {
            "text/plain": [
              "(16000, 5, 23200)"
            ]
          },
          "metadata": {
            "tags": []
          },
          "execution_count": 6
        }
      ]
    },
    {
      "cell_type": "code",
      "metadata": {
        "id": "S6jWa_kWvFIp"
      },
      "source": [
        "path_log_base = '/content/drive/Shareddrives/Experimentos_CNN/Estiven/8/logs'"
      ],
      "execution_count": null,
      "outputs": []
    },
    {
      "cell_type": "code",
      "metadata": {
        "id": "yWtZvvDVvKu8"
      },
      "source": [
        "def recall_m(y_true, y_pred):\n",
        "    true_positives = K.sum(K.round(K.clip(y_true * y_pred, 0, 1)))\n",
        "    possible_positives = K.sum(K.round(K.clip(y_true, 0, 1)))\n",
        "    recall = true_positives / (possible_positives + K.epsilon())\n",
        "    return recall\n",
        "\n",
        "def precision_m(y_true, y_pred):\n",
        "    true_positives = K.sum(K.round(K.clip(y_true * y_pred, 0, 1)))\n",
        "    predicted_positives = K.sum(K.round(K.clip(y_pred, 0, 1)))\n",
        "    precision = true_positives / (predicted_positives + K.epsilon())\n",
        "    return precision\n",
        "\n",
        "def f1_m(y_true, y_pred):\n",
        "    precision = precision_m(y_true, y_pred)\n",
        "    recall = recall_m(y_true, y_pred)\n",
        "    return 2*((precision*recall)/(precision+recall+K.epsilon()))"
      ],
      "execution_count": null,
      "outputs": []
    },
    {
      "cell_type": "code",
      "metadata": {
        "id": "wpCRRnG_XZfh"
      },
      "source": [
        "def metrics(Y_validation,predictions):\n",
        "    classes = len(np.unique(Y_validation))\n",
        "    print('Accuracy:', accuracy_score(Y_validation, predictions))\n",
        "    print('F1 score:', f1_score(Y_validation, predictions,average='weighted'))\n",
        "    print('Recall:', recall_score(Y_validation, predictions,average='weighted'))\n",
        "    print('Precision:', precision_score(Y_validation, predictions, average='weighted'))\n",
        "    print('\\n clasification report:\\n', classification_report(Y_validation, predictions))\n",
        "    print('\\n confusion matrix:\\n',confusion_matrix(Y_validation, predictions))\n",
        "    #Creamos la matriz de confusión\n",
        "    snn_cm = confusion_matrix(Y_validation, predictions)\n",
        "\n",
        "    # Visualizamos la matriz de confusión\n",
        "    snn_df_cm = pd.DataFrame(snn_cm, range(classes), range(classes))  \n",
        "    plt.figure(figsize = (20,14))  \n",
        "    sn.set(font_scale=1.4) #for label size  \n",
        "    sn.heatmap(snn_df_cm, annot=True, annot_kws={\"size\": 25},fmt='',cmap=\"YlOrRd\") # font size\n",
        "    #plt.savefig('/content/drive/Shareddrives/Prueba/Figure_41.png',  bbox_inches='tight',dpi=500)\n",
        "    #plt.savefig('/content/drive/Shareddrives/Prueba/Figure_41.eps', format='eps')\n",
        "    #plt.savefig('/content/drive/Shareddrives/Prueba/Figure_41.svg', format='svg')\n",
        "    #plt.savefig('/content/drive/Shareddrives/Prueba/Figure_41.pdf', format='pdf') \n",
        "    plt.show()"
      ],
      "execution_count": null,
      "outputs": []
    },
    {
      "cell_type": "code",
      "metadata": {
        "id": "L9KfxKurXRVR"
      },
      "source": [
        "def graphics(history, AccTest, LossTest, log_Dir, model_Name, lossTEST, lossTRAIN, lossVALID, accuracyTEST, accuracyTRAIN, accuracyVALID):\n",
        "    numbers=AccTest\n",
        "    numbers_sort = sorted(enumerate(numbers), key=itemgetter(1),  reverse=True)\n",
        "    for i in range(int(len(numbers)*(0.05))): #5% Del total de las épocas\n",
        "        index, value = numbers_sort[i]\n",
        "        print(\"Test Accuracy {}, Época:{}\\n\".format(value, index+1))\n",
        "    \n",
        "    print(\"\")\n",
        "    \n",
        "    numbers=history.history['f1_m']\n",
        "    numbers_sort = sorted(enumerate(numbers), key=itemgetter(1),  reverse=True)\n",
        "    for i in range(int(len(numbers)*(0.05))): #5% Del total de las épocas\n",
        "        index, value = numbers_sort[i]\n",
        "        print(\"Train Accuracy {}, Época:{}\\n\".format(value, index+1))\n",
        "    \n",
        "    print(\"\")\n",
        "    \n",
        "    numbers=history.history['val_f1_m']\n",
        "    numbers_sort = sorted(enumerate(numbers), key=itemgetter(1),  reverse=True)\n",
        "    for i in range(int(len(numbers)*(0.05))): #5% Del total de las épocas\n",
        "        index, value = numbers_sort[i]\n",
        "        print(\"Validation F1-Score {}, Época:{}\\n\".format(value, index+1))\n",
        "\n",
        "    with plt.style.context('seaborn-white'):\n",
        "        plt.figure(figsize=(10, 10))\n",
        "        #Plot training & validation accuracy values\n",
        "        plt.plot(np.concatenate([np.array([accuracyTRAIN]),np.array(history.history['f1_m'])],axis=0))\n",
        "        plt.plot(np.concatenate([np.array([accuracyVALID]),np.array(history.history['val_f1_m'])],axis=0))\n",
        "        plt.plot(np.concatenate([np.array([accuracyTEST]),np.array(AccTest)],axis=0)) #Test\n",
        "        plt.title('F1-Score Vs Epoch')\n",
        "        plt.ylabel('F1-Score')\n",
        "        plt.xlabel('Epoch')\n",
        "        plt.legend(['Train', 'Validation', 'Test'], loc='upper left')\n",
        "        plt.grid('on')\n",
        "        plt.savefig(\"/content/drive/Shareddrives/Experimentos_CNN/Estiven/8/Figure_learning_1.png\",  bbox_inches='tight',dpi=500)\n",
        "        #plt.savefig('/content/drive/Shareddrives/Prueba/Figure_40a_2.eps', format='eps')\n",
        "        #plt.savefig('/content/drive/Shareddrives/Prueba/Figure_40a_2.svg', format='svg')\n",
        "        #plt.savefig('/content/drive/Shareddrives/Prueba/Figure_40a_2.pdf', format='pdf')     \n",
        "        \n",
        "        plt.figure(figsize=(10, 10))\n",
        "        #Plot training & validation loss values\n",
        "        plt.plot(np.concatenate([np.array([lossTRAIN]),np.array(history.history['loss'])],axis=0))\n",
        "        plt.plot(np.concatenate([np.array([lossVALID]),np.array(history.history['val_loss'])],axis=0))\n",
        "        plt.plot(np.concatenate([np.array([lossTEST]),np.array(LossTest)],axis=0)) #Test\n",
        "        plt.title('Loss Vs Epoch')\n",
        "        plt.ylabel('Loss')\n",
        "        plt.xlabel('Epoch')\n",
        "        plt.legend(['Train', 'Validation', 'Test'], loc='upper left')\n",
        "        plt.grid('on')\n",
        "        plt.savefig(\"/content/drive/Shareddrives/Experimentos_CNN/Estiven/8/Figure_40b_2.png\",  bbox_inches='tight',dpi=500)\n",
        "        #plt.savefig('/content/drive/Shareddrives/Prueba/Figure_40b_2.eps', format='eps')\n",
        "        #plt.savefig('/content/drive/Shareddrives/Prueba/Figure_40b_2.svg', format='svg')\n",
        "        #plt.savefig('/content/drive/Shareddrives/Prueba/Figure_40b_2.pdf', format='pdf')     \n",
        "        plt.show() "
      ],
      "execution_count": null,
      "outputs": []
    },
    {
      "cell_type": "code",
      "metadata": {
        "id": "NyILi4OTvQ75"
      },
      "source": [
        "def Final_Results_Test(PATH_trained_models):\n",
        "    global AccTest\n",
        "    global LossTest\n",
        "    AccTest = []\n",
        "    LossTest= [] \n",
        "    B_accuracy = 0 #B --> Best\n",
        "    for filename in sorted(os.listdir(PATH_trained_models)):\n",
        "        if filename != ('train') and filename != ('validation'):\n",
        "            print(filename)\n",
        "            model = tf.keras.models.load_model(PATH_trained_models+'/'+filename, custom_objects={'f1_m':f1_m, 'LeakyReLU': tensorflow.keras.layers.LeakyReLU(alpha=0.01), 'ELU': tensorflow.keras.layers.ELU(alpha=0.1)})\n",
        "            loss,accuracy = model.evaluate(X_test, one_hot_labels_test,verbose=0)\n",
        "            print(f'Loss={loss:.4f} y F1-Score={accuracy:0.4f}'+'\\n')\n",
        "            BandAccTest  = accuracy\n",
        "            BandLossTest = loss\n",
        "            AccTest.append(BandAccTest)    #Valores de la precisión en Test, para graficar junto a valid y train\n",
        "            LossTest.append(BandLossTest)  #Valores de la perdida en Test, para graficar junto a valid y train\n",
        "            \n",
        "            if accuracy > B_accuracy:\n",
        "                B_accuracy = accuracy\n",
        "                B_loss = loss\n",
        "                B_name = filename\n",
        "    \n",
        "    print(\"\\n\\nBest\")\n",
        "    print(B_name)\n",
        "    print(f'Loss={B_loss:.4f} y F1-Score={B_accuracy:0.4f}'+'\\n')"
      ],
      "execution_count": null,
      "outputs": []
    },
    {
      "cell_type": "code",
      "metadata": {
        "id": "jea7IFjlvSxB"
      },
      "source": [
        "def train(model, X_train, y_train, X_valid, y_valid, X_test, y_test, batch_size, epochs, model_name=\"\"):\n",
        "    start_time = tm.time()\n",
        "    log_dir=path_log_base+\"/\"+model_name+\"_\"+str(datetime.datetime.now().isoformat()[:19].replace(\"T\", \"_\").replace(\":\",\"-\"))\n",
        "    tensorboard = tf.keras.callbacks.TensorBoard(log_dir, histogram_freq=1)\n",
        "    filepath = log_dir+\"/saved-model-{epoch:03d}-{val_f1_m:.4f}.hdf5\"\n",
        "    checkpoint = tf.keras.callbacks.ModelCheckpoint(filepath, monitor='val_f1_m', save_best_only=False, mode='max')\n",
        "    model.reset_states()\n",
        "    \n",
        "    #VALORES EN TRAIN TEST Y VALIDACIÓN INICIALES, GRÁFICOS\n",
        "    global lossTEST\n",
        "    global accuracyTEST\n",
        "    global lossTRAIN\n",
        "    global accuracyTRAIN\n",
        "    global lossVALID\n",
        "    global accuracyVALID\n",
        "    lossTEST,accuracyTEST   = model.evaluate(X_test, y_test,verbose=None)\n",
        "    lossVALID,accuracyVALID = model.evaluate(X_valid, y_valid,verbose=None)\n",
        "    lossTRAIN,accuracyTRAIN = model.evaluate(X_train, y_train,verbose=None)\n",
        "    \n",
        "    global history\n",
        "    global model_Name\n",
        "    global log_Dir\n",
        "    model_Name = model_name\n",
        "    log_Dir = log_dir\n",
        "    \n",
        "    history=model.fit(X_train, y_train, epochs=epochs, \n",
        "                      callbacks=[tensorboard,checkpoint], \n",
        "                      batch_size=batch_size,validation_data=(X_valid, y_valid),verbose=1)\n",
        "    \n",
        "    metrics = model.evaluate(X_test, y_test, verbose=0)\n",
        "     \n",
        "    TIME = tm.time() - start_time\n",
        "    print(\"Time \"+model_name+\" = %s [seconds]\" % TIME)\n",
        "    \n",
        "    print(\"\\n\")\n",
        "    print(log_dir)\n",
        "    return {k:v for k,v in zip (model.metrics_names, metrics)}"
      ],
      "execution_count": null,
      "outputs": []
    },
    {
      "cell_type": "code",
      "metadata": {
        "id": "dR2aDl_0MdJO"
      },
      "source": [
        ""
      ],
      "execution_count": null,
      "outputs": []
    },
    {
      "cell_type": "code",
      "metadata": {
        "id": "e1AWzFsNyNeW"
      },
      "source": [
        "def TERL():\n",
        "    tf.keras.backend.clear_session()\n",
        "\n",
        "    # Inputs\n",
        "    inputs = tf.keras.Input(shape=(X_train.shape[1], X_train.shape[2], 1), name=\"input_1\")\n",
        "    # layer 1\n",
        "    layers = tf.keras.layers.Conv2D(32, (5, 51),strides=(1, 1) ,activation=tf.keras.layers.LeakyReLU(0.01), kernel_regularizer=regularizers.l1_l2(0.0000, 0.000), bias_regularizer=regularizers.l1_l2(0.0000, 0.0000), use_bias=True)(inputs)\n",
        "    layers = tf.keras.layers.SpatialDropout2D(0.2)(layers)\n",
        "    tf.keras.layers.BatchNormalization(axis=-1, momentum=0.6, epsilon=0.003, scale=False)(layers)\n",
        "    #layers = tf.keras.layers.AveragePooling2D((1, 15), strides=(1,1))(layers)\n",
        "    layers = tf.keras.layers.AveragePooling2D((1, 9), strides=None)(layers)\n",
        "    #tf.keras.layers.BatchNormalization(momentum=0.2, epsilon=0.001, scale=False)(layers)\n",
        "\n",
        "    # layer 2\n",
        "    layers = tf.keras.layers.Conv2D(64, (1, 31),strides=(1, 1), activation=tf.keras.layers.LeakyReLU(0.01),  kernel_regularizer=regularizers.l1_l2(0.0000, 0.000), bias_regularizer=regularizers.l1_l2(0.0000, 0.0000), use_bias=True)(layers)\n",
        "    layers = tf.keras.layers.SpatialDropout2D(0.2)(layers)\n",
        "    tf.keras.layers.BatchNormalization(axis=1, momentum=0.6, epsilon=0.003, scale=False)(layers)\n",
        "    layers = tf.keras.layers.AveragePooling2D((1, 9), strides=None)(layers)\n",
        "    #tf.keras.layers.BatchNormalization(momentum=0.2, epsilon=0.001, scale=False)(layers)\n",
        "\n",
        "    # layer 3\n",
        "    layers = tf.keras.layers.Conv2D(128, (1, 11),strides=(1, 1), activation=tf.keras.layers.LeakyReLU(0.01),  kernel_regularizer=regularizers.l1_l2(0.0000, 0.000), bias_regularizer=regularizers.l1_l2(0.0000, 0.0000), use_bias=True)(layers)\n",
        "    layers = tf.keras.layers.SpatialDropout2D(0.2)(layers)\n",
        "    tf.keras.layers.BatchNormalization(axis=1, momentum=0.6, epsilon=0.003, scale=False)(layers)\n",
        "    layers = tf.keras.layers.AveragePooling2D((1, 9), strides=None)(layers)\n",
        "    #tf.keras.layers.BatchNormalization(momentum=0.2, epsilon=0.001, scale=False)(layers)\n",
        "    \n",
        "    # layer 4\n",
        "    layers = tf.keras.layers.Conv2D(256, (1, 5),strides=(1, 1), activation=tf.keras.layers.LeakyReLU(0.01),  kernel_regularizer=regularizers.l1_l2(0.0000, 0.000), bias_regularizer=regularizers.l1_l2(0.0000, 0.0000), use_bias=True)(layers)\n",
        "    layers = tf.keras.layers.SpatialDropout2D(0.2)(layers)\n",
        "    tf.keras.layers.BatchNormalization(axis=1, momentum=0.6, epsilon=0.003, scale=False)(layers)\n",
        "    layers = tf.keras.layers.AveragePooling2D((1, 9), strides=None)(layers)\n",
        "    #tf.keras.layers.BatchNormalization(momentum=0.2, epsilon=0.001, scale=False)(layers)\n",
        "\n",
        "    # layer 5\n",
        "    #layers = tf.keras.layers.SeparableConv2D(128, (1, 7),strides=(1, 1), activation=tf.keras.layers.LeakyReLU(0.01), depth_multiplier=1, depthwise_regularizer=regularizers.l1_l2(0.0000, 0.000), bias_regularizer=regularizers.l1_l2(0.0000, 0.0000), pointwise_regularizer=regularizers.l1_l2(0,0) , use_bias=True)(layers)\n",
        "    #layers = tf.keras.layers.SpatialDropout2D(0.2)(layers)\n",
        "    #tf.keras.layers.BatchNormalization(axis=1, momentum=0.6, epsilon=0.003, scale=False)(layers)\n",
        "    #layers = tf.keras.layers.AveragePooling2D((1, 4), strides=None)(layers)\n",
        "\n",
        "    # layer 5\n",
        "    layers = tf.keras.layers.Flatten()(layers)\n",
        "    #layers = tf.keras.layers.Dense(200,activation=\"Lrelu\")(layers) \n",
        "\n",
        "    # layer 6\n",
        "    layers = tf.keras.layers.Dense(200,activation=tf.keras.layers.LeakyReLU(0.01), kernel_regularizer=regularizers.l1_l2(0.0003, 0.000), bias_regularizer=regularizers.l1(0.001))(layers)\n",
        "    layers = tf.keras.layers.Dropout(0.2)(layers)\n",
        "    tf.keras.layers.BatchNormalization(momentum=0.6, epsilon=0.001, scale=False)(layers)\n",
        "    #tf.keras.layers.BatchNormalization(momentum=0.2, epsilon=0.001, scale=False)(layers)\n",
        "    # layer 7\n",
        "    layers = tf.keras.layers.Dense(200,activation=tf.keras.layers.LeakyReLU(0.01), kernel_regularizer=regularizers.l1_l2(0.0003, 0.000), bias_regularizer=regularizers.l1(0.001))(layers)\n",
        "    layers = tf.keras.layers.Dropout(0.2)(layers)\n",
        "    tf.keras.layers.BatchNormalization(momentum=0.6, epsilon=0.001, scale=False)(layers)\n",
        "    #tf.keras.layers.BatchNormalization(momentum=0.2, epsilon=0.001, scale=False)(layers)\n",
        "\n",
        "    # layer 8\n",
        "    #layers = tf.keras.layers.Dense(300,activation=tf.keras.layers.LeakyReLU(0.01), kernel_regularizer=regularizers.l1_l2(0.0003, 0.000), bias_regularizer=regularizers.l1(0.001))(layers)\n",
        "    #layers = tf.keras.layers.Dropout(0.3)(layers)\n",
        "    #tf.keras.layers.BatchNormalization(momentum=0.6, epsilon=0.001, scale=False)(layers)\n",
        "    #tf.keras.layers.BatchNormalization(momentum=0.2, epsilon=0.001, scale=False)(layers)\n",
        "\n",
        "    # layer end\n",
        "    predictions = tf.keras.layers.Dense(2, activation=\"softmax\", name=\"output_1\")(layers)\n",
        "    # model generation\n",
        "    model = tf.keras.Model(inputs = inputs, outputs=predictions)\n",
        "    # optimizer\n",
        "    opt = tf.keras.optimizers.Adam(learning_rate=0.001, beta_1=0.9, beta_2=0.999, epsilon=1e-08)\n",
        "    # loss function\n",
        "    #loss_fn = tf.keras.losses.BinaryCrossentropy()\n",
        "    loss_fn = BinaryFocalLoss(gamma=2)\n",
        "    # Compile model\n",
        "    model.compile(loss=loss_fn, optimizer=opt, metrics=[f1_m])\n",
        "    return model"
      ],
      "execution_count": null,
      "outputs": []
    },
    {
      "cell_type": "code",
      "metadata": {
        "id": "iIyo-xT9vXCy"
      },
      "source": [
        "# linea base, arquitectura de Nakano\n",
        "# model = InpactorFNN_Net()\n",
        "\n",
        "# arquitectura a afinar\n",
        "model = TERL()\n",
        "# summarize layers\n",
        "print(model.summary())\n",
        "tf.keras.utils.plot_model(model, show_shapes=True)"
      ],
      "execution_count": null,
      "outputs": []
    },
    {
      "cell_type": "code",
      "metadata": {
        "id": "J7p1KIKMvZPC"
      },
      "source": [
        "one_hot_labels_train = tf.keras.utils.to_categorical(Y_train, num_classes=2)\n",
        "one_hot_labels_validation = tf.keras.utils.to_categorical(Y_dev, num_classes=2)\n",
        "one_hot_labels_test = tf.keras.utils.to_categorical(Y_test, num_classes=2)"
      ],
      "execution_count": null,
      "outputs": []
    },
    {
      "cell_type": "code",
      "metadata": {
        "colab": {
          "background_save": true,
          "base_uri": "https://localhost:8080/"
        },
        "id": "VImB-4Qyvcai",
        "outputId": "41d1a08c-4847-406f-d5cc-82aeda4e3eb8"
      },
      "source": [
        "#train(model, X_trainPCAScaler, Y_trainScaler, X_validationPCAScaler, Y_dev, X_testPCAScaler, Y_test, 128, 200, \"InpactorFNN\")\n",
        "train(model, X_train, one_hot_labels_train, X_dev, one_hot_labels_validation, X_test, one_hot_labels_test, 128, 200, \"TERL\")\n",
        "#history=model.fit(X_train,one_hot_labels_train,epochs=30,validation_data=(X_dev,one_hot_labels_validation),batch_size=10)"
      ],
      "execution_count": null,
      "outputs": [
        {
          "output_type": "stream",
          "text": [
            "Epoch 1/200\n",
            "125/125 [==============================] - 28s 224ms/step - loss: 0.9891 - f1_m: 0.5697 - val_loss: 0.2015 - val_f1_m: 0.6257\n",
            "Epoch 2/200\n",
            "125/125 [==============================] - 28s 224ms/step - loss: 0.1890 - f1_m: 0.6931 - val_loss: 0.1783 - val_f1_m: 0.7042\n",
            "Epoch 3/200\n",
            "125/125 [==============================] - 29s 230ms/step - loss: 0.1796 - f1_m: 0.7104 - val_loss: 0.1739 - val_f1_m: 0.7120\n",
            "Epoch 4/200\n",
            "125/125 [==============================] - 29s 231ms/step - loss: 0.1748 - f1_m: 0.7238 - val_loss: 0.1660 - val_f1_m: 0.7383\n",
            "Epoch 5/200\n",
            "125/125 [==============================] - 26s 207ms/step - loss: 0.1681 - f1_m: 0.7487 - val_loss: 0.1638 - val_f1_m: 0.7375\n",
            "Epoch 6/200\n",
            "125/125 [==============================] - 29s 229ms/step - loss: 0.1657 - f1_m: 0.7530 - val_loss: 0.1615 - val_f1_m: 0.7457\n",
            "Epoch 7/200\n",
            "125/125 [==============================] - 29s 235ms/step - loss: 0.1649 - f1_m: 0.7556 - val_loss: 0.1636 - val_f1_m: 0.7393\n",
            "Epoch 8/200\n",
            "125/125 [==============================] - 29s 230ms/step - loss: 0.1640 - f1_m: 0.7566 - val_loss: 0.1608 - val_f1_m: 0.7529\n",
            "Epoch 9/200\n",
            "125/125 [==============================] - 29s 231ms/step - loss: 0.1637 - f1_m: 0.7562 - val_loss: 0.1600 - val_f1_m: 0.7624\n",
            "Epoch 10/200\n",
            "125/125 [==============================] - 29s 231ms/step - loss: 0.1620 - f1_m: 0.7677 - val_loss: 0.1649 - val_f1_m: 0.7475\n",
            "Epoch 11/200\n",
            "125/125 [==============================] - 29s 232ms/step - loss: 0.1626 - f1_m: 0.7658 - val_loss: 0.1604 - val_f1_m: 0.7644\n",
            "Epoch 12/200\n",
            "125/125 [==============================] - 26s 208ms/step - loss: 0.1622 - f1_m: 0.7716 - val_loss: 0.1561 - val_f1_m: 0.7717\n",
            "Epoch 13/200\n",
            "125/125 [==============================] - 28s 227ms/step - loss: 0.1609 - f1_m: 0.7766 - val_loss: 0.1587 - val_f1_m: 0.7860\n",
            "Epoch 14/200\n",
            "125/125 [==============================] - 29s 235ms/step - loss: 0.1603 - f1_m: 0.7779 - val_loss: 0.1562 - val_f1_m: 0.7864\n",
            "Epoch 15/200\n",
            "125/125 [==============================] - 29s 232ms/step - loss: 0.1594 - f1_m: 0.7777 - val_loss: 0.1588 - val_f1_m: 0.7855\n",
            "Epoch 16/200\n",
            "125/125 [==============================] - 29s 233ms/step - loss: 0.1593 - f1_m: 0.7832 - val_loss: 0.1535 - val_f1_m: 0.7939\n",
            "Epoch 17/200\n",
            "125/125 [==============================] - 29s 230ms/step - loss: 0.1569 - f1_m: 0.7866 - val_loss: 0.1590 - val_f1_m: 0.7817\n",
            "Epoch 18/200\n",
            "125/125 [==============================] - 26s 207ms/step - loss: 0.1569 - f1_m: 0.7902 - val_loss: 0.1493 - val_f1_m: 0.7968\n",
            "Epoch 19/200\n",
            "125/125 [==============================] - 29s 230ms/step - loss: 0.1564 - f1_m: 0.7935 - val_loss: 0.1529 - val_f1_m: 0.8066\n",
            "Epoch 20/200\n",
            "125/125 [==============================] - 29s 232ms/step - loss: 0.1561 - f1_m: 0.7922 - val_loss: 0.1570 - val_f1_m: 0.7888\n",
            "Epoch 21/200\n",
            "125/125 [==============================] - 29s 232ms/step - loss: 0.1552 - f1_m: 0.7946 - val_loss: 0.1513 - val_f1_m: 0.8008\n",
            "Epoch 22/200\n",
            "125/125 [==============================] - 29s 233ms/step - loss: 0.1562 - f1_m: 0.7942 - val_loss: 0.1480 - val_f1_m: 0.8099\n",
            "Epoch 23/200\n",
            "125/125 [==============================] - 29s 231ms/step - loss: 0.1557 - f1_m: 0.7989 - val_loss: 0.1481 - val_f1_m: 0.7997\n",
            "Epoch 24/200\n",
            "125/125 [==============================] - 26s 209ms/step - loss: 0.1539 - f1_m: 0.8007 - val_loss: 0.1525 - val_f1_m: 0.8051\n",
            "Epoch 25/200\n",
            "125/125 [==============================] - 27s 220ms/step - loss: 0.1509 - f1_m: 0.8026 - val_loss: 0.1492 - val_f1_m: 0.8061\n",
            "Epoch 26/200\n",
            "125/125 [==============================] - 26s 209ms/step - loss: 0.1512 - f1_m: 0.8033 - val_loss: 0.1483 - val_f1_m: 0.8059\n",
            "Epoch 27/200\n",
            "125/125 [==============================] - 29s 232ms/step - loss: 0.1520 - f1_m: 0.8058 - val_loss: 0.1515 - val_f1_m: 0.8069\n",
            "Epoch 28/200\n",
            "125/125 [==============================] - 29s 234ms/step - loss: 0.1528 - f1_m: 0.8064 - val_loss: 0.1469 - val_f1_m: 0.8152\n",
            "Epoch 29/200\n",
            "125/125 [==============================] - 29s 234ms/step - loss: 0.1502 - f1_m: 0.8081 - val_loss: 0.1456 - val_f1_m: 0.8226\n",
            "Epoch 30/200\n",
            "125/125 [==============================] - 29s 233ms/step - loss: 0.1518 - f1_m: 0.8056 - val_loss: 0.1484 - val_f1_m: 0.8086\n",
            "Epoch 31/200\n",
            "125/125 [==============================] - 29s 229ms/step - loss: 0.1513 - f1_m: 0.8069 - val_loss: 0.1451 - val_f1_m: 0.8212\n",
            "Epoch 32/200\n",
            "125/125 [==============================] - 29s 232ms/step - loss: 0.1501 - f1_m: 0.8066 - val_loss: 0.1458 - val_f1_m: 0.8111\n",
            "Epoch 33/200\n",
            "125/125 [==============================] - 26s 209ms/step - loss: 0.1517 - f1_m: 0.8085 - val_loss: 0.1454 - val_f1_m: 0.8169\n",
            "Epoch 34/200\n",
            "125/125 [==============================] - 24s 191ms/step - loss: 0.1498 - f1_m: 0.8141 - val_loss: 0.1473 - val_f1_m: 0.8201\n",
            "Epoch 35/200\n",
            "125/125 [==============================] - 29s 231ms/step - loss: 0.1495 - f1_m: 0.8106 - val_loss: 0.1450 - val_f1_m: 0.8207\n",
            "Epoch 36/200\n",
            "125/125 [==============================] - 28s 224ms/step - loss: 0.1510 - f1_m: 0.8112 - val_loss: 0.1474 - val_f1_m: 0.8157\n",
            "Epoch 37/200\n",
            "125/125 [==============================] - 29s 233ms/step - loss: 0.1492 - f1_m: 0.8136 - val_loss: 0.1450 - val_f1_m: 0.8141\n",
            "Epoch 38/200\n",
            "125/125 [==============================] - 29s 233ms/step - loss: 0.1484 - f1_m: 0.8122 - val_loss: 0.1472 - val_f1_m: 0.8189\n",
            "Epoch 39/200\n",
            "125/125 [==============================] - 26s 207ms/step - loss: 0.1513 - f1_m: 0.8147 - val_loss: 0.1459 - val_f1_m: 0.8252\n",
            "Epoch 40/200\n",
            "125/125 [==============================] - 29s 234ms/step - loss: 0.1509 - f1_m: 0.8142 - val_loss: 0.1453 - val_f1_m: 0.8249\n",
            "Epoch 41/200\n",
            "125/125 [==============================] - 29s 233ms/step - loss: 0.1505 - f1_m: 0.8135 - val_loss: 0.1475 - val_f1_m: 0.8207\n",
            "Epoch 42/200\n",
            "125/125 [==============================] - 29s 234ms/step - loss: 0.1476 - f1_m: 0.8171 - val_loss: 0.1419 - val_f1_m: 0.8317\n",
            "Epoch 43/200\n",
            "125/125 [==============================] - 29s 232ms/step - loss: 0.1480 - f1_m: 0.8158 - val_loss: 0.1465 - val_f1_m: 0.8203\n",
            "Epoch 44/200\n",
            "125/125 [==============================] - 29s 234ms/step - loss: 0.1484 - f1_m: 0.8186 - val_loss: 0.1384 - val_f1_m: 0.8346\n",
            "Epoch 45/200\n",
            "125/125 [==============================] - 29s 230ms/step - loss: 0.1498 - f1_m: 0.8151 - val_loss: 0.1513 - val_f1_m: 0.8072\n",
            "Epoch 46/200\n",
            "125/125 [==============================] - 29s 232ms/step - loss: 0.1487 - f1_m: 0.8196 - val_loss: 0.1445 - val_f1_m: 0.8218\n",
            "Epoch 47/200\n",
            "125/125 [==============================] - 29s 229ms/step - loss: 0.1468 - f1_m: 0.8214 - val_loss: 0.1423 - val_f1_m: 0.8229\n",
            "Epoch 48/200\n",
            "125/125 [==============================] - 27s 219ms/step - loss: 0.1462 - f1_m: 0.8197 - val_loss: 0.1433 - val_f1_m: 0.8262\n",
            "Epoch 49/200\n",
            "125/125 [==============================] - 28s 226ms/step - loss: 0.1468 - f1_m: 0.8208 - val_loss: 0.1425 - val_f1_m: 0.8268\n",
            "Epoch 50/200\n",
            "125/125 [==============================] - 29s 231ms/step - loss: 0.1448 - f1_m: 0.8220 - val_loss: 0.1405 - val_f1_m: 0.8258\n",
            "Epoch 51/200\n",
            "125/125 [==============================] - 29s 232ms/step - loss: 0.1496 - f1_m: 0.8249 - val_loss: 0.1433 - val_f1_m: 0.8301\n",
            "Epoch 52/200\n",
            "125/125 [==============================] - 29s 233ms/step - loss: 0.1479 - f1_m: 0.8221 - val_loss: 0.1412 - val_f1_m: 0.8342\n",
            "Epoch 53/200\n",
            "125/125 [==============================] - 29s 230ms/step - loss: 0.1459 - f1_m: 0.8242 - val_loss: 0.1412 - val_f1_m: 0.8330\n",
            "Epoch 54/200\n",
            "125/125 [==============================] - 29s 231ms/step - loss: 0.1466 - f1_m: 0.8246 - val_loss: 0.1413 - val_f1_m: 0.8262\n",
            "Epoch 55/200\n",
            "125/125 [==============================] - 29s 229ms/step - loss: 0.1449 - f1_m: 0.8284 - val_loss: 0.1426 - val_f1_m: 0.8377\n",
            "Epoch 56/200\n",
            "125/125 [==============================] - 29s 230ms/step - loss: 0.1451 - f1_m: 0.8282 - val_loss: 0.1401 - val_f1_m: 0.8323\n",
            "Epoch 57/200\n",
            "125/125 [==============================] - 29s 230ms/step - loss: 0.1466 - f1_m: 0.8266 - val_loss: 0.1473 - val_f1_m: 0.8360\n",
            "Epoch 58/200\n",
            "125/125 [==============================] - 28s 228ms/step - loss: 0.1454 - f1_m: 0.8332 - val_loss: 0.1416 - val_f1_m: 0.8387\n",
            "Epoch 59/200\n",
            "125/125 [==============================] - 26s 209ms/step - loss: 0.1441 - f1_m: 0.8306 - val_loss: 0.1429 - val_f1_m: 0.8342\n",
            "Epoch 60/200\n",
            "125/125 [==============================] - 28s 225ms/step - loss: 0.1450 - f1_m: 0.8270 - val_loss: 0.1433 - val_f1_m: 0.8355\n",
            "Epoch 61/200\n",
            "125/125 [==============================] - 29s 232ms/step - loss: 0.1438 - f1_m: 0.8283 - val_loss: 0.1411 - val_f1_m: 0.8338\n",
            "Epoch 62/200\n",
            "125/125 [==============================] - 29s 228ms/step - loss: 0.1434 - f1_m: 0.8312 - val_loss: 0.1370 - val_f1_m: 0.8394\n",
            "Epoch 63/200\n",
            "125/125 [==============================] - 29s 232ms/step - loss: 0.1432 - f1_m: 0.8303 - val_loss: 0.1375 - val_f1_m: 0.8351\n",
            "Epoch 64/200\n",
            "125/125 [==============================] - 26s 209ms/step - loss: 0.1442 - f1_m: 0.8282 - val_loss: 0.1407 - val_f1_m: 0.8428\n",
            "Epoch 65/200\n",
            "125/125 [==============================] - 26s 207ms/step - loss: 0.1490 - f1_m: 0.8309 - val_loss: 0.1421 - val_f1_m: 0.8380\n",
            "Epoch 66/200\n",
            "125/125 [==============================] - 28s 224ms/step - loss: 0.1423 - f1_m: 0.8367 - val_loss: 0.1452 - val_f1_m: 0.8232\n",
            "Epoch 67/200\n",
            "125/125 [==============================] - 26s 208ms/step - loss: 0.1431 - f1_m: 0.8336 - val_loss: 0.1395 - val_f1_m: 0.8367\n",
            "Epoch 68/200\n",
            "125/125 [==============================] - 29s 234ms/step - loss: 0.1426 - f1_m: 0.8341 - val_loss: 0.1382 - val_f1_m: 0.8442\n",
            "Epoch 69/200\n",
            "125/125 [==============================] - 29s 232ms/step - loss: 0.1425 - f1_m: 0.8332 - val_loss: 0.1467 - val_f1_m: 0.8376\n",
            "Epoch 70/200\n",
            "125/125 [==============================] - 29s 233ms/step - loss: 0.1438 - f1_m: 0.8336 - val_loss: 0.1386 - val_f1_m: 0.8468\n",
            "Epoch 71/200\n",
            "125/125 [==============================] - 26s 209ms/step - loss: 0.1434 - f1_m: 0.8343 - val_loss: 0.1387 - val_f1_m: 0.8413\n",
            "Epoch 72/200\n",
            "125/125 [==============================] - 29s 232ms/step - loss: 0.1434 - f1_m: 0.8327 - val_loss: 0.1358 - val_f1_m: 0.8494\n",
            "Epoch 73/200\n",
            "125/125 [==============================] - 28s 227ms/step - loss: 0.1427 - f1_m: 0.8359 - val_loss: 0.1392 - val_f1_m: 0.8441\n",
            "Epoch 74/200\n",
            "125/125 [==============================] - 26s 210ms/step - loss: 0.1434 - f1_m: 0.8329 - val_loss: 0.1397 - val_f1_m: 0.8432\n",
            "Epoch 75/200\n",
            "125/125 [==============================] - 26s 208ms/step - loss: 0.1441 - f1_m: 0.8372 - val_loss: 0.1404 - val_f1_m: 0.8400\n",
            "Epoch 76/200\n",
            "125/125 [==============================] - 26s 207ms/step - loss: 0.1449 - f1_m: 0.8361 - val_loss: 0.1408 - val_f1_m: 0.8501\n",
            "Epoch 77/200\n",
            "125/125 [==============================] - 26s 207ms/step - loss: 0.1429 - f1_m: 0.8380 - val_loss: 0.1351 - val_f1_m: 0.8475\n",
            "Epoch 78/200\n",
            "125/125 [==============================] - 29s 230ms/step - loss: 0.1402 - f1_m: 0.8389 - val_loss: 0.1379 - val_f1_m: 0.8545\n",
            "Epoch 79/200\n",
            "125/125 [==============================] - 29s 234ms/step - loss: 0.1418 - f1_m: 0.8404 - val_loss: 0.1412 - val_f1_m: 0.8482\n",
            "Epoch 80/200\n",
            "125/125 [==============================] - 25s 204ms/step - loss: 0.1434 - f1_m: 0.8392 - val_loss: 0.1432 - val_f1_m: 0.8341\n",
            "Epoch 81/200\n",
            "125/125 [==============================] - 28s 225ms/step - loss: 0.1426 - f1_m: 0.8400 - val_loss: 0.1388 - val_f1_m: 0.8490\n",
            "Epoch 82/200\n",
            "125/125 [==============================] - 29s 232ms/step - loss: 0.1392 - f1_m: 0.8392 - val_loss: 0.1335 - val_f1_m: 0.8548\n",
            "Epoch 83/200\n",
            "125/125 [==============================] - 29s 230ms/step - loss: 0.1385 - f1_m: 0.8441 - val_loss: 0.1382 - val_f1_m: 0.8473\n",
            "Epoch 84/200\n",
            "125/125 [==============================] - 29s 235ms/step - loss: 0.1397 - f1_m: 0.8409 - val_loss: 0.1364 - val_f1_m: 0.8559\n",
            "Epoch 85/200\n",
            "125/125 [==============================] - 29s 233ms/step - loss: 0.1434 - f1_m: 0.8424 - val_loss: 0.1413 - val_f1_m: 0.8507\n",
            "Epoch 86/200\n",
            "125/125 [==============================] - 29s 232ms/step - loss: 0.1455 - f1_m: 0.8396 - val_loss: 0.1389 - val_f1_m: 0.8560\n",
            "Epoch 87/200\n",
            "125/125 [==============================] - 29s 230ms/step - loss: 0.1411 - f1_m: 0.8462 - val_loss: 0.1355 - val_f1_m: 0.8582\n",
            "Epoch 88/200\n",
            "125/125 [==============================] - 29s 230ms/step - loss: 0.1385 - f1_m: 0.8457 - val_loss: 0.1357 - val_f1_m: 0.8514\n",
            "Epoch 89/200\n",
            "125/125 [==============================] - 29s 229ms/step - loss: 0.1387 - f1_m: 0.8411 - val_loss: 0.1367 - val_f1_m: 0.8568\n",
            "Epoch 90/200\n",
            "125/125 [==============================] - 29s 230ms/step - loss: 0.1388 - f1_m: 0.8442 - val_loss: 0.1342 - val_f1_m: 0.8490\n",
            "Epoch 91/200\n",
            "125/125 [==============================] - 29s 234ms/step - loss: 0.1407 - f1_m: 0.8424 - val_loss: 0.1372 - val_f1_m: 0.8504\n",
            "Epoch 92/200\n",
            "125/125 [==============================] - 29s 232ms/step - loss: 0.1417 - f1_m: 0.8451 - val_loss: 0.1422 - val_f1_m: 0.8619\n",
            "Epoch 93/200\n",
            "125/125 [==============================] - 26s 211ms/step - loss: 0.1400 - f1_m: 0.8474 - val_loss: 0.1393 - val_f1_m: 0.8487\n",
            "Epoch 94/200\n",
            "125/125 [==============================] - 29s 229ms/step - loss: 0.1388 - f1_m: 0.8446 - val_loss: 0.1349 - val_f1_m: 0.8519\n",
            "Epoch 95/200\n",
            "125/125 [==============================] - 29s 232ms/step - loss: 0.1409 - f1_m: 0.8456 - val_loss: 0.1383 - val_f1_m: 0.8575\n",
            "Epoch 96/200\n",
            "125/125 [==============================] - 26s 207ms/step - loss: 0.1403 - f1_m: 0.8454 - val_loss: 0.1350 - val_f1_m: 0.8551\n",
            "Epoch 97/200\n",
            "125/125 [==============================] - 26s 207ms/step - loss: 0.1376 - f1_m: 0.8469 - val_loss: 0.1389 - val_f1_m: 0.8566\n",
            "Epoch 98/200\n",
            "125/125 [==============================] - 28s 226ms/step - loss: 0.1385 - f1_m: 0.8515 - val_loss: 0.1377 - val_f1_m: 0.8616\n",
            "Epoch 99/200\n",
            "125/125 [==============================] - 29s 232ms/step - loss: 0.1376 - f1_m: 0.8466 - val_loss: 0.1355 - val_f1_m: 0.8539\n",
            "Epoch 100/200\n",
            "125/125 [==============================] - 29s 231ms/step - loss: 0.1398 - f1_m: 0.8485 - val_loss: 0.1390 - val_f1_m: 0.8603\n",
            "Epoch 101/200\n",
            "125/125 [==============================] - 29s 231ms/step - loss: 0.1394 - f1_m: 0.8471 - val_loss: 0.1348 - val_f1_m: 0.8616\n",
            "Epoch 102/200\n",
            "125/125 [==============================] - 29s 230ms/step - loss: 0.1370 - f1_m: 0.8527 - val_loss: 0.1371 - val_f1_m: 0.8526\n",
            "Epoch 103/200\n",
            "125/125 [==============================] - 26s 209ms/step - loss: 0.1370 - f1_m: 0.8492 - val_loss: 0.1345 - val_f1_m: 0.8491\n",
            "Epoch 104/200\n",
            "125/125 [==============================] - 29s 231ms/step - loss: 0.1385 - f1_m: 0.8497 - val_loss: 0.1368 - val_f1_m: 0.8614\n",
            "Epoch 105/200\n",
            "125/125 [==============================] - 28s 228ms/step - loss: 0.1386 - f1_m: 0.8502 - val_loss: 0.1433 - val_f1_m: 0.8487\n",
            "Epoch 106/200\n",
            "125/125 [==============================] - 29s 229ms/step - loss: 0.1391 - f1_m: 0.8497 - val_loss: 0.1359 - val_f1_m: 0.8502\n",
            "Epoch 107/200\n",
            "125/125 [==============================] - 26s 211ms/step - loss: 0.1365 - f1_m: 0.8525 - val_loss: 0.1374 - val_f1_m: 0.8543\n",
            "Epoch 108/200\n",
            "125/125 [==============================] - 29s 235ms/step - loss: 0.1367 - f1_m: 0.8527 - val_loss: 0.1332 - val_f1_m: 0.8604\n",
            "Epoch 109/200\n",
            "125/125 [==============================] - 29s 232ms/step - loss: 0.1365 - f1_m: 0.8527 - val_loss: 0.1381 - val_f1_m: 0.8526\n",
            "Epoch 110/200\n",
            "125/125 [==============================] - 29s 235ms/step - loss: 0.1377 - f1_m: 0.8513 - val_loss: 0.1395 - val_f1_m: 0.8588\n",
            "Epoch 111/200\n",
            "125/125 [==============================] - 29s 230ms/step - loss: 0.1401 - f1_m: 0.8531 - val_loss: 0.1412 - val_f1_m: 0.8622\n",
            "Epoch 112/200\n",
            "125/125 [==============================] - 29s 232ms/step - loss: 0.1394 - f1_m: 0.8544 - val_loss: 0.1395 - val_f1_m: 0.8573\n",
            "Epoch 113/200\n",
            "125/125 [==============================] - 25s 203ms/step - loss: 0.1365 - f1_m: 0.8542 - val_loss: 0.1351 - val_f1_m: 0.8627\n",
            "Epoch 114/200\n",
            "125/125 [==============================] - 29s 232ms/step - loss: 0.1350 - f1_m: 0.8577 - val_loss: 0.1357 - val_f1_m: 0.8603\n",
            "Epoch 115/200\n",
            "125/125 [==============================] - 29s 231ms/step - loss: 0.1338 - f1_m: 0.8536 - val_loss: 0.1316 - val_f1_m: 0.8585\n",
            "Epoch 116/200\n",
            "125/125 [==============================] - 28s 228ms/step - loss: 0.1353 - f1_m: 0.8541 - val_loss: 0.1307 - val_f1_m: 0.8642\n",
            "Epoch 117/200\n",
            "125/125 [==============================] - 28s 228ms/step - loss: 0.1329 - f1_m: 0.8599 - val_loss: 0.1326 - val_f1_m: 0.8669\n",
            "Epoch 118/200\n",
            "125/125 [==============================] - 29s 232ms/step - loss: 0.1352 - f1_m: 0.8609 - val_loss: 0.1366 - val_f1_m: 0.8665\n",
            "Epoch 119/200\n",
            "125/125 [==============================] - 29s 231ms/step - loss: 0.1352 - f1_m: 0.8609 - val_loss: 0.1375 - val_f1_m: 0.8663\n",
            "Epoch 120/200\n",
            "125/125 [==============================] - 29s 230ms/step - loss: 0.1370 - f1_m: 0.8586 - val_loss: 0.1373 - val_f1_m: 0.8545\n",
            "Epoch 121/200\n",
            "125/125 [==============================] - 29s 231ms/step - loss: 0.1358 - f1_m: 0.8566 - val_loss: 0.1351 - val_f1_m: 0.8599\n",
            "Epoch 122/200\n",
            "125/125 [==============================] - 29s 231ms/step - loss: 0.1341 - f1_m: 0.8571 - val_loss: 0.1347 - val_f1_m: 0.8585\n",
            "Epoch 123/200\n",
            "125/125 [==============================] - 27s 219ms/step - loss: 0.1318 - f1_m: 0.8604 - val_loss: 0.1306 - val_f1_m: 0.8676\n",
            "Epoch 124/200\n",
            "125/125 [==============================] - 29s 234ms/step - loss: 0.1331 - f1_m: 0.8612 - val_loss: 0.1373 - val_f1_m: 0.8646\n",
            "Epoch 125/200\n",
            "125/125 [==============================] - 29s 233ms/step - loss: 0.1334 - f1_m: 0.8601 - val_loss: 0.1328 - val_f1_m: 0.8638\n",
            "Epoch 126/200\n",
            "125/125 [==============================] - 29s 232ms/step - loss: 0.1305 - f1_m: 0.8620 - val_loss: 0.1327 - val_f1_m: 0.8614\n",
            "Epoch 127/200\n",
            "125/125 [==============================] - 29s 229ms/step - loss: 0.1311 - f1_m: 0.8644 - val_loss: 0.1315 - val_f1_m: 0.8684\n",
            "Epoch 128/200\n",
            "125/125 [==============================] - 29s 232ms/step - loss: 0.1384 - f1_m: 0.8624 - val_loss: 0.1404 - val_f1_m: 0.8641\n",
            "Epoch 129/200\n",
            "125/125 [==============================] - 28s 228ms/step - loss: 0.1339 - f1_m: 0.8627 - val_loss: 0.1335 - val_f1_m: 0.8750\n",
            "Epoch 130/200\n",
            "125/125 [==============================] - 28s 227ms/step - loss: 0.1308 - f1_m: 0.8653 - val_loss: 0.1384 - val_f1_m: 0.8622\n",
            "Epoch 131/200\n",
            "125/125 [==============================] - 29s 231ms/step - loss: 0.1361 - f1_m: 0.8669 - val_loss: 0.1318 - val_f1_m: 0.8718\n",
            "Epoch 132/200\n",
            "125/125 [==============================] - 29s 233ms/step - loss: 0.1321 - f1_m: 0.8622 - val_loss: 0.1293 - val_f1_m: 0.8724\n",
            "Epoch 133/200\n",
            "125/125 [==============================] - 26s 210ms/step - loss: 0.1341 - f1_m: 0.8669 - val_loss: 0.1330 - val_f1_m: 0.8705\n",
            "Epoch 134/200\n",
            "125/125 [==============================] - 28s 222ms/step - loss: 0.1311 - f1_m: 0.8659 - val_loss: 0.1279 - val_f1_m: 0.8731\n",
            "Epoch 135/200\n",
            "125/125 [==============================] - 26s 208ms/step - loss: 0.1328 - f1_m: 0.8661 - val_loss: 0.1365 - val_f1_m: 0.8652\n",
            "Epoch 136/200\n",
            "125/125 [==============================] - 29s 232ms/step - loss: 0.1337 - f1_m: 0.8633 - val_loss: 0.1318 - val_f1_m: 0.8730\n",
            "Epoch 137/200\n",
            "125/125 [==============================] - 29s 230ms/step - loss: 0.1315 - f1_m: 0.8662 - val_loss: 0.1348 - val_f1_m: 0.8699\n",
            "Epoch 138/200\n",
            "125/125 [==============================] - 29s 233ms/step - loss: 0.1323 - f1_m: 0.8700 - val_loss: 0.1341 - val_f1_m: 0.8645\n",
            "Epoch 139/200\n",
            "125/125 [==============================] - 29s 233ms/step - loss: 0.1315 - f1_m: 0.8666 - val_loss: 0.1309 - val_f1_m: 0.8724\n",
            "Epoch 140/200\n",
            "125/125 [==============================] - 29s 229ms/step - loss: 0.1294 - f1_m: 0.8702 - val_loss: 0.1282 - val_f1_m: 0.8754\n",
            "Epoch 141/200\n",
            "125/125 [==============================] - 28s 227ms/step - loss: 0.1280 - f1_m: 0.8702 - val_loss: 0.1297 - val_f1_m: 0.8742\n",
            "Epoch 142/200\n",
            "125/125 [==============================] - 26s 208ms/step - loss: 0.1332 - f1_m: 0.8641 - val_loss: 0.1408 - val_f1_m: 0.8578\n",
            "Epoch 143/200\n",
            "125/125 [==============================] - 29s 233ms/step - loss: 0.1310 - f1_m: 0.8689 - val_loss: 0.1337 - val_f1_m: 0.8617\n",
            "Epoch 144/200\n",
            "125/125 [==============================] - 29s 235ms/step - loss: 0.1306 - f1_m: 0.8668 - val_loss: 0.1326 - val_f1_m: 0.8683\n",
            "Epoch 145/200\n",
            "125/125 [==============================] - 29s 231ms/step - loss: 0.1302 - f1_m: 0.8722 - val_loss: 0.1358 - val_f1_m: 0.8651\n",
            "Epoch 146/200\n",
            "125/125 [==============================] - 29s 232ms/step - loss: 0.1317 - f1_m: 0.8686 - val_loss: 0.1315 - val_f1_m: 0.8784\n",
            "Epoch 147/200\n",
            "125/125 [==============================] - 29s 233ms/step - loss: 0.1294 - f1_m: 0.8716 - val_loss: 0.1301 - val_f1_m: 0.8749\n",
            "Epoch 148/200\n",
            "125/125 [==============================] - 29s 233ms/step - loss: 0.1274 - f1_m: 0.8717 - val_loss: 0.1291 - val_f1_m: 0.8822\n",
            "Epoch 149/200\n",
            "125/125 [==============================] - 29s 235ms/step - loss: 0.1310 - f1_m: 0.8686 - val_loss: 0.1349 - val_f1_m: 0.8692\n",
            "Epoch 150/200\n",
            "125/125 [==============================] - 29s 232ms/step - loss: 0.1304 - f1_m: 0.8717 - val_loss: 0.1274 - val_f1_m: 0.8741\n",
            "Epoch 151/200\n",
            "125/125 [==============================] - 29s 233ms/step - loss: 0.1283 - f1_m: 0.8710 - val_loss: 0.1291 - val_f1_m: 0.8705\n",
            "Epoch 152/200\n",
            "125/125 [==============================] - 29s 235ms/step - loss: 0.1300 - f1_m: 0.8697 - val_loss: 0.1317 - val_f1_m: 0.8813\n",
            "Epoch 153/200\n",
            "125/125 [==============================] - 29s 234ms/step - loss: 0.1286 - f1_m: 0.8734 - val_loss: 0.1302 - val_f1_m: 0.8732\n",
            "Epoch 154/200\n",
            "125/125 [==============================] - 29s 232ms/step - loss: 0.1286 - f1_m: 0.8745 - val_loss: 0.1394 - val_f1_m: 0.8624\n",
            "Epoch 155/200\n",
            "125/125 [==============================] - 29s 232ms/step - loss: 0.1317 - f1_m: 0.8757 - val_loss: 0.1366 - val_f1_m: 0.8736\n",
            "Epoch 156/200\n",
            "125/125 [==============================] - 29s 233ms/step - loss: 0.1307 - f1_m: 0.8751 - val_loss: 0.1319 - val_f1_m: 0.8694\n",
            "Epoch 157/200\n",
            "125/125 [==============================] - 29s 232ms/step - loss: 0.1282 - f1_m: 0.8740 - val_loss: 0.1336 - val_f1_m: 0.8710\n",
            "Epoch 158/200\n",
            "125/125 [==============================] - 29s 232ms/step - loss: 0.1271 - f1_m: 0.8724 - val_loss: 0.1293 - val_f1_m: 0.8692\n",
            "Epoch 159/200\n",
            "125/125 [==============================] - 29s 234ms/step - loss: 0.1311 - f1_m: 0.8732 - val_loss: 0.1378 - val_f1_m: 0.8705\n",
            "Epoch 160/200\n",
            "125/125 [==============================] - 29s 234ms/step - loss: 0.1287 - f1_m: 0.8774 - val_loss: 0.1296 - val_f1_m: 0.8784\n",
            "Epoch 161/200\n",
            "125/125 [==============================] - 29s 232ms/step - loss: 0.1262 - f1_m: 0.8752 - val_loss: 0.1379 - val_f1_m: 0.8611\n",
            "Epoch 162/200\n",
            "125/125 [==============================] - 26s 207ms/step - loss: 0.1270 - f1_m: 0.8738 - val_loss: 0.1280 - val_f1_m: 0.8788\n",
            "Epoch 163/200\n",
            "125/125 [==============================] - 29s 234ms/step - loss: 0.1290 - f1_m: 0.8766 - val_loss: 0.1355 - val_f1_m: 0.8712\n",
            "Epoch 164/200\n",
            "125/125 [==============================] - 26s 210ms/step - loss: 0.1270 - f1_m: 0.8761 - val_loss: 0.1273 - val_f1_m: 0.8728\n",
            "Epoch 165/200\n",
            "125/125 [==============================] - 26s 209ms/step - loss: 0.1290 - f1_m: 0.8734 - val_loss: 0.1284 - val_f1_m: 0.8784\n",
            "Epoch 166/200\n",
            "125/125 [==============================] - 29s 231ms/step - loss: 0.1259 - f1_m: 0.8749 - val_loss: 0.1296 - val_f1_m: 0.8872\n",
            "Epoch 167/200\n",
            "125/125 [==============================] - 29s 232ms/step - loss: 0.1271 - f1_m: 0.8784 - val_loss: 0.1294 - val_f1_m: 0.8740\n",
            "Epoch 168/200\n",
            "125/125 [==============================] - 29s 231ms/step - loss: 0.1248 - f1_m: 0.8792 - val_loss: 0.1349 - val_f1_m: 0.8753\n",
            "Epoch 169/200\n",
            "125/125 [==============================] - 29s 232ms/step - loss: 0.1279 - f1_m: 0.8787 - val_loss: 0.1353 - val_f1_m: 0.8780\n",
            "Epoch 170/200\n",
            "125/125 [==============================] - 29s 235ms/step - loss: 0.1250 - f1_m: 0.8809 - val_loss: 0.1281 - val_f1_m: 0.8767\n",
            "Epoch 171/200\n",
            "125/125 [==============================] - 29s 235ms/step - loss: 0.1243 - f1_m: 0.8808 - val_loss: 0.1264 - val_f1_m: 0.8805\n",
            "Epoch 172/200\n",
            "125/125 [==============================] - 29s 230ms/step - loss: 0.1252 - f1_m: 0.8821 - val_loss: 0.1261 - val_f1_m: 0.8855\n",
            "Epoch 173/200\n",
            "125/125 [==============================] - 29s 234ms/step - loss: 0.1260 - f1_m: 0.8787 - val_loss: 0.1292 - val_f1_m: 0.8779\n",
            "Epoch 174/200\n",
            "125/125 [==============================] - 26s 212ms/step - loss: 0.1254 - f1_m: 0.8789 - val_loss: 0.1279 - val_f1_m: 0.8777\n",
            "Epoch 175/200\n",
            "125/125 [==============================] - 29s 234ms/step - loss: 0.1247 - f1_m: 0.8796 - val_loss: 0.1295 - val_f1_m: 0.8726\n",
            "Epoch 176/200\n",
            "125/125 [==============================] - 28s 220ms/step - loss: 0.1230 - f1_m: 0.8815 - val_loss: 0.1330 - val_f1_m: 0.8674\n",
            "Epoch 177/200\n",
            "125/125 [==============================] - 29s 233ms/step - loss: 0.1251 - f1_m: 0.8831 - val_loss: 0.1296 - val_f1_m: 0.8739\n",
            "Epoch 178/200\n",
            "125/125 [==============================] - 29s 229ms/step - loss: 0.1274 - f1_m: 0.8834 - val_loss: 0.1371 - val_f1_m: 0.8666\n",
            "Epoch 179/200\n",
            "125/125 [==============================] - 29s 235ms/step - loss: 0.1271 - f1_m: 0.8813 - val_loss: 0.1347 - val_f1_m: 0.8815\n",
            "Epoch 180/200\n",
            "125/125 [==============================] - 26s 210ms/step - loss: 0.1254 - f1_m: 0.8861 - val_loss: 0.1330 - val_f1_m: 0.8674\n",
            "Epoch 181/200\n",
            "125/125 [==============================] - 29s 231ms/step - loss: 0.1254 - f1_m: 0.8801 - val_loss: 0.1324 - val_f1_m: 0.8722\n",
            "Epoch 182/200\n",
            "125/125 [==============================] - 29s 231ms/step - loss: 0.1219 - f1_m: 0.8881 - val_loss: 0.1250 - val_f1_m: 0.8737\n",
            "Epoch 183/200\n",
            "125/125 [==============================] - 29s 231ms/step - loss: 0.1215 - f1_m: 0.8854 - val_loss: 0.1345 - val_f1_m: 0.8618\n",
            "Epoch 184/200\n",
            "125/125 [==============================] - 29s 233ms/step - loss: 0.1243 - f1_m: 0.8842 - val_loss: 0.1310 - val_f1_m: 0.8853\n",
            "Epoch 185/200\n",
            "125/125 [==============================] - 29s 234ms/step - loss: 0.1249 - f1_m: 0.8866 - val_loss: 0.1326 - val_f1_m: 0.8792\n",
            "Epoch 186/200\n",
            "125/125 [==============================] - 29s 232ms/step - loss: 0.1237 - f1_m: 0.8823 - val_loss: 0.1250 - val_f1_m: 0.8864\n",
            "Epoch 187/200\n",
            "125/125 [==============================] - 26s 206ms/step - loss: 0.1213 - f1_m: 0.8863 - val_loss: 0.1268 - val_f1_m: 0.8818\n",
            "Epoch 188/200\n",
            "125/125 [==============================] - 29s 232ms/step - loss: 0.1212 - f1_m: 0.8867 - val_loss: 0.1351 - val_f1_m: 0.8657\n",
            "Epoch 189/200\n",
            "125/125 [==============================] - 29s 233ms/step - loss: 0.1250 - f1_m: 0.8872 - val_loss: 0.1324 - val_f1_m: 0.8786\n",
            "Epoch 190/200\n",
            "125/125 [==============================] - 29s 230ms/step - loss: 0.1241 - f1_m: 0.8861 - val_loss: 0.1376 - val_f1_m: 0.8626\n",
            "Epoch 191/200\n",
            "125/125 [==============================] - 26s 210ms/step - loss: 0.1223 - f1_m: 0.8861 - val_loss: 0.1332 - val_f1_m: 0.8733\n",
            "Epoch 192/200\n",
            "125/125 [==============================] - 29s 229ms/step - loss: 0.1229 - f1_m: 0.8846 - val_loss: 0.1323 - val_f1_m: 0.8747\n",
            "Epoch 193/200\n",
            "125/125 [==============================] - 29s 233ms/step - loss: 0.1227 - f1_m: 0.8872 - val_loss: 0.1316 - val_f1_m: 0.8696\n",
            "Epoch 194/200\n",
            "125/125 [==============================] - 29s 232ms/step - loss: 0.1220 - f1_m: 0.8859 - val_loss: 0.1267 - val_f1_m: 0.8760\n",
            "Epoch 195/200\n",
            "125/125 [==============================] - 29s 235ms/step - loss: 0.1193 - f1_m: 0.8893 - val_loss: 0.1273 - val_f1_m: 0.8823\n",
            "Epoch 196/200\n",
            "125/125 [==============================] - 29s 232ms/step - loss: 0.1240 - f1_m: 0.8862 - val_loss: 0.1298 - val_f1_m: 0.8831\n",
            "Epoch 197/200\n",
            "125/125 [==============================] - 29s 229ms/step - loss: 0.1194 - f1_m: 0.8889 - val_loss: 0.1235 - val_f1_m: 0.8891\n",
            "Epoch 198/200\n",
            "125/125 [==============================] - 29s 235ms/step - loss: 0.1217 - f1_m: 0.8860 - val_loss: 0.1394 - val_f1_m: 0.8666\n",
            "Epoch 199/200\n",
            "125/125 [==============================] - 29s 234ms/step - loss: 0.1221 - f1_m: 0.8879 - val_loss: 0.1241 - val_f1_m: 0.8801\n",
            "Epoch 200/200\n",
            "125/125 [==============================] - 29s 229ms/step - loss: 0.1189 - f1_m: 0.8902 - val_loss: 0.1253 - val_f1_m: 0.8808\n",
            "Time TERL = 5730.792457103729 [seconds]\n",
            "\n",
            "\n",
            "/content/drive/Shareddrives/Experimentos_CNN/Estiven/8/logs/TERL_2021-07-27_14-27-53\n"
          ],
          "name": "stdout"
        },
        {
          "output_type": "execute_result",
          "data": {
            "text/plain": [
              "{'f1_m': 0.8903769254684448, 'loss': 0.12124091386795044}"
            ]
          },
          "metadata": {
            "tags": []
          },
          "execution_count": 0
        }
      ]
    },
    {
      "cell_type": "code",
      "metadata": {
        "colab": {
          "base_uri": "https://localhost:8080/"
        },
        "id": "q5FwkkDZve70",
        "outputId": "8f7bc292-cbb5-4438-dea7-f88185151a02"
      },
      "source": [
        "# Fit the model\n",
        "Final_Results_Test(log_Dir)"
      ],
      "execution_count": null,
      "outputs": [
        {
          "output_type": "stream",
          "text": [
            "saved-model-001-0.6257.hdf5\n"
          ],
          "name": "stdout"
        }
      ]
    },
    {
      "cell_type": "code",
      "metadata": {
        "id": "ig5--UH1Rlqd"
      },
      "source": [
        "# plot metrics\n",
        "plt.plot(history.history['f1_m'])\n",
        "plt.xlabel('Epoch')\n",
        "plt.ylabel('F1-Score')\n",
        "plt.title('Epoch vs F1-Score')\n",
        "plt.show()\n",
        "\n",
        "#GRÁFICOS DE LAS TRES CURVAS TRAIN TEST Y VALIDACIÓN\n",
        "graphics(history, AccTest, LossTest, log_Dir, model_Name, lossTEST, lossTRAIN, lossVALID, accuracyTEST, accuracyTRAIN, accuracyVALID)"
      ],
      "execution_count": null,
      "outputs": []
    },
    {
      "cell_type": "code",
      "metadata": {
        "colab": {
          "base_uri": "https://localhost:8080/",
          "height": 1000
        },
        "id": "eINgiZTz83t9",
        "outputId": "b02847d0-5d46-4a59-92d6-6e946573f1fd"
      },
      "source": [
        "scores = model.evaluate(X_train, one_hot_labels_train, verbose=0)\n",
        "print(\"Baseline Error train: %.2f%%\" % (100-scores[1]*100))\n",
        "\n",
        "scores = model.evaluate(X_dev, one_hot_labels_validation, verbose=0)\n",
        "print(\"Baseline Error dev: %.2f%%\" % (100-scores[1]*100))\n",
        "\n",
        "scores = model.evaluate(X_test, one_hot_labels_test, verbose=0)\n",
        "print(\"Baseline Error test: %.2f%%\" % (100-scores[1]*100))\n",
        "\n",
        "predictions = model.predict(X_train)\n",
        "\n",
        "metrics(Y_train, [argmax(x) for x in predictions])\n",
        "#metrics(one_hot_labels_validation, [round(x,0) for x in predictions])\n",
        "\n",
        "predictions = model.predict(X_dev)\n",
        "\n",
        "metrics(Y_dev, [argmax(x) for x in predictions])\n",
        "#metrics(Y_dev, [round(x,0) for x in predictions])\n",
        "\n",
        "predictions = model.predict(X_test)\n",
        "\n",
        "metrics(Y_test, [argmax(x) for x in predictions])\n",
        "#metrics(Y_test, [round(x,0) for x in predictions])"
      ],
      "execution_count": null,
      "outputs": [
        {
          "output_type": "stream",
          "text": [
            "Baseline Error train: 3.74%\n",
            "Baseline Error dev: 10.86%\n",
            "Baseline Error test: 9.03%\n",
            "Accuracy: 0.9625625\n",
            "F1 score: 0.9625070470797257\n",
            "Recall: 0.9625625\n",
            "Precision: 0.964681803932526\n",
            "\n",
            " clasification report:\n",
            "               precision    recall  f1-score   support\n",
            "\n",
            "       False       0.93      1.00      0.96      8077\n",
            "        True       1.00      0.93      0.96      7923\n",
            "\n",
            "    accuracy                           0.96     16000\n",
            "   macro avg       0.96      0.96      0.96     16000\n",
            "weighted avg       0.96      0.96      0.96     16000\n",
            "\n",
            "\n",
            " confusion matrix:\n",
            " [[8049   28]\n",
            " [ 571 7352]]\n"
          ],
          "name": "stdout"
        },
        {
          "output_type": "display_data",
          "data": {
            "image/png": "[encoded data removed]",
            "text/plain": [
              "<Figure size 1440x1008 with 2 Axes>"
            ]
          },
          "metadata": {
            "tags": []
          }
        },
        {
          "output_type": "stream",
          "text": [
            "Accuracy: 0.8915\n",
            "F1 score: 0.8913254071856034\n",
            "Recall: 0.8915\n",
            "Precision: 0.8964822286050371\n",
            "\n",
            " clasification report:\n",
            "               precision    recall  f1-score   support\n",
            "\n",
            "       False       0.85      0.94      0.89       975\n",
            "        True       0.94      0.84      0.89      1025\n",
            "\n",
            "    accuracy                           0.89      2000\n",
            "   macro avg       0.90      0.89      0.89      2000\n",
            "weighted avg       0.90      0.89      0.89      2000\n",
            "\n",
            "\n",
            " confusion matrix:\n",
            " [[921  54]\n",
            " [163 862]]\n"
          ],
          "name": "stdout"
        },
        {
          "output_type": "display_data",
          "data": {
            "image/png": "[encoded data removed]",
            "text/plain": [
              "<Figure size 1440x1008 with 2 Axes>"
            ]
          },
          "metadata": {
            "tags": []
          }
        },
        {
          "output_type": "stream",
          "text": [
            "Accuracy: 0.91\n",
            "F1 score: 0.910055097851704\n",
            "Recall: 0.91\n",
            "Precision: 0.9122146469496191\n",
            "\n",
            " clasification report:\n",
            "               precision    recall  f1-score   support\n",
            "\n",
            "       False       0.88      0.94      0.91       948\n",
            "        True       0.94      0.88      0.91      1052\n",
            "\n",
            "    accuracy                           0.91      2000\n",
            "   macro avg       0.91      0.91      0.91      2000\n",
            "weighted avg       0.91      0.91      0.91      2000\n",
            "\n",
            "\n",
            " confusion matrix:\n",
            " [[892  56]\n",
            " [124 928]]\n"
          ],
          "name": "stdout"
        },
        {
          "output_type": "display_data",
          "data": {
            "image/png": "[encoded data removed]",
            "text/plain": [
              "<Figure size 1440x1008 with 2 Axes>"
            ]
          },
          "metadata": {
            "tags": []
          }
        }
      ]
    },
    {
      "cell_type": "code",
      "metadata": {
        "colab": {
          "base_uri": "https://localhost:8080/",
          "height": 1000
        },
        "id": "xBuOdjDe9do5",
        "outputId": "e6b72e05-367d-43fd-d6c7-fa1a4f234d73"
      },
      "source": [
        "scores = model.evaluate(X_test, one_hot_labels_test, verbose=0)\n",
        "print(\"Baseline Error test: %.2f%%\" % (100-scores[1]*100))\n",
        "predictions = model.predict(X_test)\n",
        "\n",
        "metrics(Y_test, [argmax(x) for x in predictions])"
      ],
      "execution_count": null,
      "outputs": [
        {
          "output_type": "stream",
          "text": [
            "Baseline Error test: 9.03%\n",
            "Accuracy: 0.91\n",
            "F1 score: 0.910055097851704\n",
            "Recall: 0.91\n",
            "Precision: 0.9122146469496191\n",
            "\n",
            " clasification report:\n",
            "               precision    recall  f1-score   support\n",
            "\n",
            "       False       0.88      0.94      0.91       948\n",
            "        True       0.94      0.88      0.91      1052\n",
            "\n",
            "    accuracy                           0.91      2000\n",
            "   macro avg       0.91      0.91      0.91      2000\n",
            "weighted avg       0.91      0.91      0.91      2000\n",
            "\n",
            "\n",
            " confusion matrix:\n",
            " [[892  56]\n",
            " [124 928]]\n"
          ],
          "name": "stdout"
        },
        {
          "output_type": "display_data",
          "data": {
            "image/png": "[encoded data removed]",
            "text/plain": [
              "<Figure size 1440x1008 with 2 Axes>"
            ]
          },
          "metadata": {
            "tags": []
          }
        }
      ]
    },
    {
      "cell_type": "code",
      "metadata": {
        "id": "krsvMPkZ9Qpx"
      },
      "source": [
        "lossVALID"
      ],
      "execution_count": null,
      "outputs": []
    },
    {
      "cell_type": "code",
      "metadata": {
        "id": "oB1lRaYr94Eq"
      },
      "source": [
        "np.array([lossTEST])"
      ],
      "execution_count": null,
      "outputs": []
    },
    {
      "cell_type": "code",
      "metadata": {
        "id": "fGMZ-N0r-R9B"
      },
      "source": [
        ""
      ],
      "execution_count": null,
      "outputs": []
    }
  ]
}